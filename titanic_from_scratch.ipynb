{
 "cells": [
  {
   "cell_type": "markdown",
   "id": "44c6c58c-81c0-4a87-8b0c-95f0b25844eb",
   "metadata": {},
   "source": [
    "# Towards DeepLearning from Scratch with Titatic"
   ]
  },
  {
   "cell_type": "markdown",
   "id": "689759ed-28ae-43f4-b084-e94b978181aa",
   "metadata": {},
   "source": [
    "## Get the Titanic dataset from Kaggle"
   ]
  },
  {
   "cell_type": "code",
   "execution_count": 1,
   "id": "e9920443-0a8f-4c05-82ed-26a0aedf26c4",
   "metadata": {},
   "outputs": [],
   "source": [
    "import os\n",
    "from pathlib import Path\n",
    "\n",
    "import numpy as np\n",
    "import pandas as pd\n",
    "import matplotlib.pyplot as plt\n",
    "import torch\n",
    "\n",
    "np.set_printoptions(linewidth=140)\n",
    "torch.set_printoptions(linewidth=140, sci_mode=False, edgeitems=7)\n",
    "pd.set_option('display.width', 140)\n",
    "\n",
    "iskaggle = os.environ.get('KAGGLE_KERNEL_RUN_TYPE', '')\n",
    "if iskaggle: \n",
    "    path = Path('../input/titanic')\n",
    "else:\n",
    "    path = Path('titanic')\n",
    "    if not path.exists():\n",
    "        import zipfile\n",
    "        import kaggle\n",
    "        \n",
    "        kaggle.api.competition_download_cli(str(path))\n",
    "        zipfile.ZipFile(f'{path}.zip').extractall(path)"
   ]
  },
  {
   "cell_type": "code",
   "execution_count": 2,
   "id": "9c80554a-f20e-45b2-97e1-4a2a49ecbd7a",
   "metadata": {},
   "outputs": [
    {
     "name": "stdout",
     "output_type": "stream",
     "text": [
      "gender_submission.csv  test.csv  train.csv\n"
     ]
    }
   ],
   "source": [
    "# Display what we have inside the titanic folder\n",
    "!ls {path}"
   ]
  },
  {
   "cell_type": "code",
   "execution_count": 3,
   "id": "45252323-4ed7-4e0e-ac11-77e39ab55be8",
   "metadata": {},
   "outputs": [
    {
     "data": {
      "text/html": [
       "<div>\n",
       "<style scoped>\n",
       "    .dataframe tbody tr th:only-of-type {\n",
       "        vertical-align: middle;\n",
       "    }\n",
       "\n",
       "    .dataframe tbody tr th {\n",
       "        vertical-align: top;\n",
       "    }\n",
       "\n",
       "    .dataframe thead th {\n",
       "        text-align: right;\n",
       "    }\n",
       "</style>\n",
       "<table border=\"1\" class=\"dataframe\">\n",
       "  <thead>\n",
       "    <tr style=\"text-align: right;\">\n",
       "      <th></th>\n",
       "      <th>PassengerId</th>\n",
       "      <th>Survived</th>\n",
       "      <th>Pclass</th>\n",
       "      <th>Name</th>\n",
       "      <th>Sex</th>\n",
       "      <th>Age</th>\n",
       "      <th>SibSp</th>\n",
       "      <th>Parch</th>\n",
       "      <th>Ticket</th>\n",
       "      <th>Fare</th>\n",
       "      <th>Cabin</th>\n",
       "      <th>Embarked</th>\n",
       "    </tr>\n",
       "  </thead>\n",
       "  <tbody>\n",
       "    <tr>\n",
       "      <th>0</th>\n",
       "      <td>1</td>\n",
       "      <td>0</td>\n",
       "      <td>3</td>\n",
       "      <td>Braund, Mr. Owen Harris</td>\n",
       "      <td>male</td>\n",
       "      <td>22.0</td>\n",
       "      <td>1</td>\n",
       "      <td>0</td>\n",
       "      <td>A/5 21171</td>\n",
       "      <td>7.2500</td>\n",
       "      <td>NaN</td>\n",
       "      <td>S</td>\n",
       "    </tr>\n",
       "    <tr>\n",
       "      <th>1</th>\n",
       "      <td>2</td>\n",
       "      <td>1</td>\n",
       "      <td>1</td>\n",
       "      <td>Cumings, Mrs. John Bradley (Florence Briggs Th...</td>\n",
       "      <td>female</td>\n",
       "      <td>38.0</td>\n",
       "      <td>1</td>\n",
       "      <td>0</td>\n",
       "      <td>PC 17599</td>\n",
       "      <td>71.2833</td>\n",
       "      <td>C85</td>\n",
       "      <td>C</td>\n",
       "    </tr>\n",
       "    <tr>\n",
       "      <th>2</th>\n",
       "      <td>3</td>\n",
       "      <td>1</td>\n",
       "      <td>3</td>\n",
       "      <td>Heikkinen, Miss. Laina</td>\n",
       "      <td>female</td>\n",
       "      <td>26.0</td>\n",
       "      <td>0</td>\n",
       "      <td>0</td>\n",
       "      <td>STON/O2. 3101282</td>\n",
       "      <td>7.9250</td>\n",
       "      <td>NaN</td>\n",
       "      <td>S</td>\n",
       "    </tr>\n",
       "    <tr>\n",
       "      <th>3</th>\n",
       "      <td>4</td>\n",
       "      <td>1</td>\n",
       "      <td>1</td>\n",
       "      <td>Futrelle, Mrs. Jacques Heath (Lily May Peel)</td>\n",
       "      <td>female</td>\n",
       "      <td>35.0</td>\n",
       "      <td>1</td>\n",
       "      <td>0</td>\n",
       "      <td>113803</td>\n",
       "      <td>53.1000</td>\n",
       "      <td>C123</td>\n",
       "      <td>S</td>\n",
       "    </tr>\n",
       "    <tr>\n",
       "      <th>4</th>\n",
       "      <td>5</td>\n",
       "      <td>0</td>\n",
       "      <td>3</td>\n",
       "      <td>Allen, Mr. William Henry</td>\n",
       "      <td>male</td>\n",
       "      <td>35.0</td>\n",
       "      <td>0</td>\n",
       "      <td>0</td>\n",
       "      <td>373450</td>\n",
       "      <td>8.0500</td>\n",
       "      <td>NaN</td>\n",
       "      <td>S</td>\n",
       "    </tr>\n",
       "  </tbody>\n",
       "</table>\n",
       "</div>"
      ],
      "text/plain": [
       "   PassengerId  Survived  Pclass                                               Name     Sex   Age  SibSp  Parch            Ticket  \\\n",
       "0            1         0       3                            Braund, Mr. Owen Harris    male  22.0      1      0         A/5 21171   \n",
       "1            2         1       1  Cumings, Mrs. John Bradley (Florence Briggs Th...  female  38.0      1      0          PC 17599   \n",
       "2            3         1       3                             Heikkinen, Miss. Laina  female  26.0      0      0  STON/O2. 3101282   \n",
       "3            4         1       1       Futrelle, Mrs. Jacques Heath (Lily May Peel)  female  35.0      1      0            113803   \n",
       "4            5         0       3                           Allen, Mr. William Henry    male  35.0      0      0            373450   \n",
       "\n",
       "      Fare Cabin Embarked  \n",
       "0   7.2500   NaN        S  \n",
       "1  71.2833   C85        C  \n",
       "2   7.9250   NaN        S  \n",
       "3  53.1000  C123        S  \n",
       "4   8.0500   NaN        S  "
      ]
     },
     "execution_count": 3,
     "metadata": {},
     "output_type": "execute_result"
    }
   ],
   "source": [
    "df = pd.read_csv(path/'train.csv')\n",
    "df.head()"
   ]
  },
  {
   "cell_type": "markdown",
   "id": "3a91ea9b-c36b-4a72-8b98-36ec0b1bbd53",
   "metadata": {},
   "source": [
    "## Binary classification problem with Survived column as target"
   ]
  },
  {
   "cell_type": "markdown",
   "id": "2191cbc3-73e6-4fec-a70a-23de299be9f9",
   "metadata": {},
   "source": [
    "## Data Exploration"
   ]
  },
  {
   "cell_type": "code",
   "execution_count": 4,
   "id": "17fb7a69-d2c9-4fac-b77c-bd8810b273bb",
   "metadata": {},
   "outputs": [
    {
     "data": {
      "text/plain": [
       "PassengerId      0\n",
       "Survived         0\n",
       "Pclass           0\n",
       "Name             0\n",
       "Sex              0\n",
       "Age            177\n",
       "SibSp            0\n",
       "Parch            0\n",
       "Ticket           0\n",
       "Fare             0\n",
       "Cabin          687\n",
       "Embarked         2\n",
       "dtype: int64"
      ]
     },
     "execution_count": 4,
     "metadata": {},
     "output_type": "execute_result"
    }
   ],
   "source": [
    "df.isna().sum()"
   ]
  },
  {
   "cell_type": "code",
   "execution_count": 5,
   "id": "1bd656f6-6767-4078-bf5e-17425688e2ac",
   "metadata": {},
   "outputs": [
    {
     "data": {
      "text/plain": [
       "PassengerId                      1\n",
       "Survived                       0.0\n",
       "Pclass                         3.0\n",
       "Name           Abbing, Mr. Anthony\n",
       "Sex                           male\n",
       "Age                           24.0\n",
       "SibSp                          0.0\n",
       "Parch                          0.0\n",
       "Ticket                        1601\n",
       "Fare                          8.05\n",
       "Cabin                      B96 B98\n",
       "Embarked                         S\n",
       "Name: 0, dtype: object"
      ]
     },
     "execution_count": 5,
     "metadata": {},
     "output_type": "execute_result"
    }
   ],
   "source": [
    "modes = df.mode().iloc[0]\n",
    "modes"
   ]
  },
  {
   "cell_type": "code",
   "execution_count": 6,
   "id": "5e108179-09c5-465e-b118-6953b5d028c0",
   "metadata": {},
   "outputs": [
    {
     "data": {
      "text/plain": [
       "0    24.0\n",
       "Name: Age, dtype: float64"
      ]
     },
     "execution_count": 6,
     "metadata": {},
     "output_type": "execute_result"
    }
   ],
   "source": [
    "df.Age.mode()"
   ]
  },
  {
   "cell_type": "markdown",
   "id": "491d35d9-79b3-4e2c-bbe6-9f0a0576aeac",
   "metadata": {},
   "source": [
    "## Filling missing value, mode inputing"
   ]
  },
  {
   "cell_type": "markdown",
   "id": "8212e745-5933-4512-a7cb-d2cf92e6c0e3",
   "metadata": {},
   "source": [
    "Mode can have more than one value so we just localize the first one"
   ]
  },
  {
   "cell_type": "code",
   "execution_count": 7,
   "id": "ad135610-05c7-407a-be40-0858c38e05fc",
   "metadata": {},
   "outputs": [
    {
     "data": {
      "text/html": [
       "<div>\n",
       "<style scoped>\n",
       "    .dataframe tbody tr th:only-of-type {\n",
       "        vertical-align: middle;\n",
       "    }\n",
       "\n",
       "    .dataframe tbody tr th {\n",
       "        vertical-align: top;\n",
       "    }\n",
       "\n",
       "    .dataframe thead th {\n",
       "        text-align: right;\n",
       "    }\n",
       "</style>\n",
       "<table border=\"1\" class=\"dataframe\">\n",
       "  <thead>\n",
       "    <tr style=\"text-align: right;\">\n",
       "      <th></th>\n",
       "      <th>PassengerId</th>\n",
       "      <th>Survived</th>\n",
       "      <th>Pclass</th>\n",
       "      <th>Name</th>\n",
       "      <th>Sex</th>\n",
       "      <th>Age</th>\n",
       "      <th>SibSp</th>\n",
       "      <th>Parch</th>\n",
       "      <th>Ticket</th>\n",
       "      <th>Fare</th>\n",
       "      <th>Cabin</th>\n",
       "      <th>Embarked</th>\n",
       "    </tr>\n",
       "  </thead>\n",
       "  <tbody>\n",
       "    <tr>\n",
       "      <th>0</th>\n",
       "      <td>1</td>\n",
       "      <td>0</td>\n",
       "      <td>3</td>\n",
       "      <td>Braund, Mr. Owen Harris</td>\n",
       "      <td>male</td>\n",
       "      <td>22.0</td>\n",
       "      <td>1</td>\n",
       "      <td>0</td>\n",
       "      <td>A/5 21171</td>\n",
       "      <td>7.2500</td>\n",
       "      <td>B96 B98</td>\n",
       "      <td>S</td>\n",
       "    </tr>\n",
       "    <tr>\n",
       "      <th>1</th>\n",
       "      <td>2</td>\n",
       "      <td>1</td>\n",
       "      <td>1</td>\n",
       "      <td>Cumings, Mrs. John Bradley (Florence Briggs Th...</td>\n",
       "      <td>female</td>\n",
       "      <td>38.0</td>\n",
       "      <td>1</td>\n",
       "      <td>0</td>\n",
       "      <td>PC 17599</td>\n",
       "      <td>71.2833</td>\n",
       "      <td>C85</td>\n",
       "      <td>C</td>\n",
       "    </tr>\n",
       "    <tr>\n",
       "      <th>2</th>\n",
       "      <td>3</td>\n",
       "      <td>1</td>\n",
       "      <td>3</td>\n",
       "      <td>Heikkinen, Miss. Laina</td>\n",
       "      <td>female</td>\n",
       "      <td>26.0</td>\n",
       "      <td>0</td>\n",
       "      <td>0</td>\n",
       "      <td>STON/O2. 3101282</td>\n",
       "      <td>7.9250</td>\n",
       "      <td>B96 B98</td>\n",
       "      <td>S</td>\n",
       "    </tr>\n",
       "    <tr>\n",
       "      <th>3</th>\n",
       "      <td>4</td>\n",
       "      <td>1</td>\n",
       "      <td>1</td>\n",
       "      <td>Futrelle, Mrs. Jacques Heath (Lily May Peel)</td>\n",
       "      <td>female</td>\n",
       "      <td>35.0</td>\n",
       "      <td>1</td>\n",
       "      <td>0</td>\n",
       "      <td>113803</td>\n",
       "      <td>53.1000</td>\n",
       "      <td>C123</td>\n",
       "      <td>S</td>\n",
       "    </tr>\n",
       "    <tr>\n",
       "      <th>4</th>\n",
       "      <td>5</td>\n",
       "      <td>0</td>\n",
       "      <td>3</td>\n",
       "      <td>Allen, Mr. William Henry</td>\n",
       "      <td>male</td>\n",
       "      <td>35.0</td>\n",
       "      <td>0</td>\n",
       "      <td>0</td>\n",
       "      <td>373450</td>\n",
       "      <td>8.0500</td>\n",
       "      <td>B96 B98</td>\n",
       "      <td>S</td>\n",
       "    </tr>\n",
       "  </tbody>\n",
       "</table>\n",
       "</div>"
      ],
      "text/plain": [
       "   PassengerId  Survived  Pclass                                               Name     Sex   Age  SibSp  Parch            Ticket  \\\n",
       "0            1         0       3                            Braund, Mr. Owen Harris    male  22.0      1      0         A/5 21171   \n",
       "1            2         1       1  Cumings, Mrs. John Bradley (Florence Briggs Th...  female  38.0      1      0          PC 17599   \n",
       "2            3         1       3                             Heikkinen, Miss. Laina  female  26.0      0      0  STON/O2. 3101282   \n",
       "3            4         1       1       Futrelle, Mrs. Jacques Heath (Lily May Peel)  female  35.0      1      0            113803   \n",
       "4            5         0       3                           Allen, Mr. William Henry    male  35.0      0      0            373450   \n",
       "\n",
       "      Fare    Cabin Embarked  \n",
       "0   7.2500  B96 B98        S  \n",
       "1  71.2833      C85        C  \n",
       "2   7.9250  B96 B98        S  \n",
       "3  53.1000     C123        S  \n",
       "4   8.0500  B96 B98        S  "
      ]
     },
     "execution_count": 7,
     "metadata": {},
     "output_type": "execute_result"
    }
   ],
   "source": [
    "df.fillna(modes, inplace=True)\n",
    "df.head()"
   ]
  },
  {
   "cell_type": "code",
   "execution_count": 8,
   "id": "020bf5bb-ada9-4800-8c9b-8939015b57b2",
   "metadata": {},
   "outputs": [
    {
     "data": {
      "text/plain": [
       "PassengerId    0\n",
       "Survived       0\n",
       "Pclass         0\n",
       "Name           0\n",
       "Sex            0\n",
       "Age            0\n",
       "SibSp          0\n",
       "Parch          0\n",
       "Ticket         0\n",
       "Fare           0\n",
       "Cabin          0\n",
       "Embarked       0\n",
       "dtype: int64"
      ]
     },
     "execution_count": 8,
     "metadata": {},
     "output_type": "execute_result"
    }
   ],
   "source": [
    "df.isna().sum()"
   ]
  },
  {
   "cell_type": "code",
   "execution_count": 9,
   "id": "0e749ed9-5a03-467f-b112-4edb8ddf0259",
   "metadata": {},
   "outputs": [
    {
     "data": {
      "text/html": [
       "<div>\n",
       "<style scoped>\n",
       "    .dataframe tbody tr th:only-of-type {\n",
       "        vertical-align: middle;\n",
       "    }\n",
       "\n",
       "    .dataframe tbody tr th {\n",
       "        vertical-align: top;\n",
       "    }\n",
       "\n",
       "    .dataframe thead th {\n",
       "        text-align: right;\n",
       "    }\n",
       "</style>\n",
       "<table border=\"1\" class=\"dataframe\">\n",
       "  <thead>\n",
       "    <tr style=\"text-align: right;\">\n",
       "      <th></th>\n",
       "      <th>PassengerId</th>\n",
       "      <th>Survived</th>\n",
       "      <th>Pclass</th>\n",
       "      <th>Age</th>\n",
       "      <th>SibSp</th>\n",
       "      <th>Parch</th>\n",
       "      <th>Fare</th>\n",
       "    </tr>\n",
       "  </thead>\n",
       "  <tbody>\n",
       "    <tr>\n",
       "      <th>count</th>\n",
       "      <td>891.000000</td>\n",
       "      <td>891.000000</td>\n",
       "      <td>891.000000</td>\n",
       "      <td>891.000000</td>\n",
       "      <td>891.000000</td>\n",
       "      <td>891.000000</td>\n",
       "      <td>891.000000</td>\n",
       "    </tr>\n",
       "    <tr>\n",
       "      <th>mean</th>\n",
       "      <td>446.000000</td>\n",
       "      <td>0.383838</td>\n",
       "      <td>2.308642</td>\n",
       "      <td>28.566970</td>\n",
       "      <td>0.523008</td>\n",
       "      <td>0.381594</td>\n",
       "      <td>32.204208</td>\n",
       "    </tr>\n",
       "    <tr>\n",
       "      <th>std</th>\n",
       "      <td>257.353842</td>\n",
       "      <td>0.486592</td>\n",
       "      <td>0.836071</td>\n",
       "      <td>13.199572</td>\n",
       "      <td>1.102743</td>\n",
       "      <td>0.806057</td>\n",
       "      <td>49.693429</td>\n",
       "    </tr>\n",
       "    <tr>\n",
       "      <th>min</th>\n",
       "      <td>1.000000</td>\n",
       "      <td>0.000000</td>\n",
       "      <td>1.000000</td>\n",
       "      <td>0.420000</td>\n",
       "      <td>0.000000</td>\n",
       "      <td>0.000000</td>\n",
       "      <td>0.000000</td>\n",
       "    </tr>\n",
       "    <tr>\n",
       "      <th>25%</th>\n",
       "      <td>223.500000</td>\n",
       "      <td>0.000000</td>\n",
       "      <td>2.000000</td>\n",
       "      <td>22.000000</td>\n",
       "      <td>0.000000</td>\n",
       "      <td>0.000000</td>\n",
       "      <td>7.910400</td>\n",
       "    </tr>\n",
       "    <tr>\n",
       "      <th>50%</th>\n",
       "      <td>446.000000</td>\n",
       "      <td>0.000000</td>\n",
       "      <td>3.000000</td>\n",
       "      <td>24.000000</td>\n",
       "      <td>0.000000</td>\n",
       "      <td>0.000000</td>\n",
       "      <td>14.454200</td>\n",
       "    </tr>\n",
       "    <tr>\n",
       "      <th>75%</th>\n",
       "      <td>668.500000</td>\n",
       "      <td>1.000000</td>\n",
       "      <td>3.000000</td>\n",
       "      <td>35.000000</td>\n",
       "      <td>1.000000</td>\n",
       "      <td>0.000000</td>\n",
       "      <td>31.000000</td>\n",
       "    </tr>\n",
       "    <tr>\n",
       "      <th>max</th>\n",
       "      <td>891.000000</td>\n",
       "      <td>1.000000</td>\n",
       "      <td>3.000000</td>\n",
       "      <td>80.000000</td>\n",
       "      <td>8.000000</td>\n",
       "      <td>6.000000</td>\n",
       "      <td>512.329200</td>\n",
       "    </tr>\n",
       "  </tbody>\n",
       "</table>\n",
       "</div>"
      ],
      "text/plain": [
       "       PassengerId    Survived      Pclass         Age       SibSp       Parch        Fare\n",
       "count   891.000000  891.000000  891.000000  891.000000  891.000000  891.000000  891.000000\n",
       "mean    446.000000    0.383838    2.308642   28.566970    0.523008    0.381594   32.204208\n",
       "std     257.353842    0.486592    0.836071   13.199572    1.102743    0.806057   49.693429\n",
       "min       1.000000    0.000000    1.000000    0.420000    0.000000    0.000000    0.000000\n",
       "25%     223.500000    0.000000    2.000000   22.000000    0.000000    0.000000    7.910400\n",
       "50%     446.000000    0.000000    3.000000   24.000000    0.000000    0.000000   14.454200\n",
       "75%     668.500000    1.000000    3.000000   35.000000    1.000000    0.000000   31.000000\n",
       "max     891.000000    1.000000    3.000000   80.000000    8.000000    6.000000  512.329200"
      ]
     },
     "execution_count": 9,
     "metadata": {},
     "output_type": "execute_result"
    }
   ],
   "source": [
    "df.describe(include=[np.number])"
   ]
  },
  {
   "cell_type": "code",
   "execution_count": 10,
   "id": "8baf3891-0c1c-4b17-be53-e0c6763d61eb",
   "metadata": {},
   "outputs": [
    {
     "data": {
      "text/html": [
       "<div>\n",
       "<style scoped>\n",
       "    .dataframe tbody tr th:only-of-type {\n",
       "        vertical-align: middle;\n",
       "    }\n",
       "\n",
       "    .dataframe tbody tr th {\n",
       "        vertical-align: top;\n",
       "    }\n",
       "\n",
       "    .dataframe thead th {\n",
       "        text-align: right;\n",
       "    }\n",
       "</style>\n",
       "<table border=\"1\" class=\"dataframe\">\n",
       "  <thead>\n",
       "    <tr style=\"text-align: right;\">\n",
       "      <th></th>\n",
       "      <th>Name</th>\n",
       "      <th>Sex</th>\n",
       "      <th>Ticket</th>\n",
       "      <th>Cabin</th>\n",
       "      <th>Embarked</th>\n",
       "    </tr>\n",
       "  </thead>\n",
       "  <tbody>\n",
       "    <tr>\n",
       "      <th>count</th>\n",
       "      <td>891</td>\n",
       "      <td>891</td>\n",
       "      <td>891</td>\n",
       "      <td>891</td>\n",
       "      <td>891</td>\n",
       "    </tr>\n",
       "    <tr>\n",
       "      <th>unique</th>\n",
       "      <td>891</td>\n",
       "      <td>2</td>\n",
       "      <td>681</td>\n",
       "      <td>147</td>\n",
       "      <td>3</td>\n",
       "    </tr>\n",
       "    <tr>\n",
       "      <th>top</th>\n",
       "      <td>Braund, Mr. Owen Harris</td>\n",
       "      <td>male</td>\n",
       "      <td>347082</td>\n",
       "      <td>B96 B98</td>\n",
       "      <td>S</td>\n",
       "    </tr>\n",
       "    <tr>\n",
       "      <th>freq</th>\n",
       "      <td>1</td>\n",
       "      <td>577</td>\n",
       "      <td>7</td>\n",
       "      <td>691</td>\n",
       "      <td>646</td>\n",
       "    </tr>\n",
       "  </tbody>\n",
       "</table>\n",
       "</div>"
      ],
      "text/plain": [
       "                           Name   Sex  Ticket    Cabin Embarked\n",
       "count                       891   891     891      891      891\n",
       "unique                      891     2     681      147        3\n",
       "top     Braund, Mr. Owen Harris  male  347082  B96 B98        S\n",
       "freq                          1   577       7      691      646"
      ]
     },
     "execution_count": 10,
     "metadata": {},
     "output_type": "execute_result"
    }
   ],
   "source": [
    "df.describe(include=[np.object_])"
   ]
  },
  {
   "cell_type": "code",
   "execution_count": 11,
   "id": "979ac6d4-14fc-4960-8b84-7bf7b418d174",
   "metadata": {},
   "outputs": [
    {
     "data": {
      "image/png": "[encoded data removed]",
      "text/plain": [
       "<Figure size 432x288 with 1 Axes>"
      ]
     },
     "metadata": {
      "needs_background": "light"
     },
     "output_type": "display_data"
    }
   ],
   "source": [
    "df.Fare.hist(bins=20);\n",
    "plt.title(\"Fare distribution\");"
   ]
  },
  {
   "cell_type": "markdown",
   "id": "77a81e6e-e80b-4480-b2e8-80c8f2ebc389",
   "metadata": {},
   "source": [
    "Linear Models and NN suffers when we feed them long tail distributions, we should try to help making the distribution look better"
   ]
  },
  {
   "cell_type": "code",
   "execution_count": 12,
   "id": "7f3cb8be-26ee-4031-bb56-a24025278f5b",
   "metadata": {},
   "outputs": [
    {
     "data": {
      "image/png": "[encoded data removed]",
      "text/plain": [
       "<Figure size 432x288 with 1 Axes>"
      ]
     },
     "metadata": {
      "needs_background": "light"
     },
     "output_type": "display_data"
    }
   ],
   "source": [
    "df['LogFare'] = np.log(1 + df.Fare)\n",
    "df.LogFare.hist(bins=20);\n",
    "plt.title(\"LogFare distribution\");"
   ]
  },
  {
   "cell_type": "markdown",
   "id": "85d2795c-2c60-4bde-8f00-52737bf30d94",
   "metadata": {},
   "source": [
    "# Get dummies cols for categorical columns"
   ]
  },
  {
   "cell_type": "code",
   "execution_count": 13,
   "id": "c64840a9-e575-456e-963b-002a7e9f278e",
   "metadata": {},
   "outputs": [
    {
     "data": {
      "text/plain": [
       "Index(['PassengerId', 'Survived', 'Name', 'Age', 'SibSp', 'Parch', 'Ticket', 'Fare', 'Cabin', 'LogFare', 'Sex_female', 'Sex_male',\n",
       "       'Pclass_1', 'Pclass_2', 'Pclass_3', 'Embarked_C', 'Embarked_Q', 'Embarked_S'],\n",
       "      dtype='object')"
      ]
     },
     "execution_count": 13,
     "metadata": {},
     "output_type": "execute_result"
    }
   ],
   "source": [
    "# I will avoid using Name, it's useful but out of scope for this nb\n",
    "df = pd.get_dummies(df, columns=[\"Sex\",\"Pclass\",\"Embarked\"])\n",
    "df.columns"
   ]
  },
  {
   "cell_type": "code",
   "execution_count": 14,
   "id": "a34c72c9-5692-4b76-ad3e-0aba44518109",
   "metadata": {},
   "outputs": [
    {
     "data": {
      "text/html": [
       "<div>\n",
       "<style scoped>\n",
       "    .dataframe tbody tr th:only-of-type {\n",
       "        vertical-align: middle;\n",
       "    }\n",
       "\n",
       "    .dataframe tbody tr th {\n",
       "        vertical-align: top;\n",
       "    }\n",
       "\n",
       "    .dataframe thead th {\n",
       "        text-align: right;\n",
       "    }\n",
       "</style>\n",
       "<table border=\"1\" class=\"dataframe\">\n",
       "  <thead>\n",
       "    <tr style=\"text-align: right;\">\n",
       "      <th></th>\n",
       "      <th>Sex_female</th>\n",
       "      <th>Sex_male</th>\n",
       "      <th>Pclass_1</th>\n",
       "      <th>Pclass_2</th>\n",
       "      <th>Pclass_3</th>\n",
       "      <th>Embarked_C</th>\n",
       "      <th>Embarked_Q</th>\n",
       "      <th>Embarked_S</th>\n",
       "    </tr>\n",
       "  </thead>\n",
       "  <tbody>\n",
       "    <tr>\n",
       "      <th>0</th>\n",
       "      <td>0</td>\n",
       "      <td>1</td>\n",
       "      <td>0</td>\n",
       "      <td>0</td>\n",
       "      <td>1</td>\n",
       "      <td>0</td>\n",
       "      <td>0</td>\n",
       "      <td>1</td>\n",
       "    </tr>\n",
       "    <tr>\n",
       "      <th>1</th>\n",
       "      <td>1</td>\n",
       "      <td>0</td>\n",
       "      <td>1</td>\n",
       "      <td>0</td>\n",
       "      <td>0</td>\n",
       "      <td>1</td>\n",
       "      <td>0</td>\n",
       "      <td>0</td>\n",
       "    </tr>\n",
       "    <tr>\n",
       "      <th>2</th>\n",
       "      <td>1</td>\n",
       "      <td>0</td>\n",
       "      <td>0</td>\n",
       "      <td>0</td>\n",
       "      <td>1</td>\n",
       "      <td>0</td>\n",
       "      <td>0</td>\n",
       "      <td>1</td>\n",
       "    </tr>\n",
       "    <tr>\n",
       "      <th>3</th>\n",
       "      <td>1</td>\n",
       "      <td>0</td>\n",
       "      <td>1</td>\n",
       "      <td>0</td>\n",
       "      <td>0</td>\n",
       "      <td>0</td>\n",
       "      <td>0</td>\n",
       "      <td>1</td>\n",
       "    </tr>\n",
       "    <tr>\n",
       "      <th>4</th>\n",
       "      <td>0</td>\n",
       "      <td>1</td>\n",
       "      <td>0</td>\n",
       "      <td>0</td>\n",
       "      <td>1</td>\n",
       "      <td>0</td>\n",
       "      <td>0</td>\n",
       "      <td>1</td>\n",
       "    </tr>\n",
       "    <tr>\n",
       "      <th>...</th>\n",
       "      <td>...</td>\n",
       "      <td>...</td>\n",
       "      <td>...</td>\n",
       "      <td>...</td>\n",
       "      <td>...</td>\n",
       "      <td>...</td>\n",
       "      <td>...</td>\n",
       "      <td>...</td>\n",
       "    </tr>\n",
       "    <tr>\n",
       "      <th>886</th>\n",
       "      <td>0</td>\n",
       "      <td>1</td>\n",
       "      <td>0</td>\n",
       "      <td>1</td>\n",
       "      <td>0</td>\n",
       "      <td>0</td>\n",
       "      <td>0</td>\n",
       "      <td>1</td>\n",
       "    </tr>\n",
       "    <tr>\n",
       "      <th>887</th>\n",
       "      <td>1</td>\n",
       "      <td>0</td>\n",
       "      <td>1</td>\n",
       "      <td>0</td>\n",
       "      <td>0</td>\n",
       "      <td>0</td>\n",
       "      <td>0</td>\n",
       "      <td>1</td>\n",
       "    </tr>\n",
       "    <tr>\n",
       "      <th>888</th>\n",
       "      <td>1</td>\n",
       "      <td>0</td>\n",
       "      <td>0</td>\n",
       "      <td>0</td>\n",
       "      <td>1</td>\n",
       "      <td>0</td>\n",
       "      <td>0</td>\n",
       "      <td>1</td>\n",
       "    </tr>\n",
       "    <tr>\n",
       "      <th>889</th>\n",
       "      <td>0</td>\n",
       "      <td>1</td>\n",
       "      <td>1</td>\n",
       "      <td>0</td>\n",
       "      <td>0</td>\n",
       "      <td>1</td>\n",
       "      <td>0</td>\n",
       "      <td>0</td>\n",
       "    </tr>\n",
       "    <tr>\n",
       "      <th>890</th>\n",
       "      <td>0</td>\n",
       "      <td>1</td>\n",
       "      <td>0</td>\n",
       "      <td>0</td>\n",
       "      <td>1</td>\n",
       "      <td>0</td>\n",
       "      <td>1</td>\n",
       "      <td>0</td>\n",
       "    </tr>\n",
       "  </tbody>\n",
       "</table>\n",
       "<p>891 rows × 8 columns</p>\n",
       "</div>"
      ],
      "text/plain": [
       "     Sex_female  Sex_male  Pclass_1  Pclass_2  Pclass_3  Embarked_C  Embarked_Q  Embarked_S\n",
       "0             0         1         0         0         1           0           0           1\n",
       "1             1         0         1         0         0           1           0           0\n",
       "2             1         0         0         0         1           0           0           1\n",
       "3             1         0         1         0         0           0           0           1\n",
       "4             0         1         0         0         1           0           0           1\n",
       "..          ...       ...       ...       ...       ...         ...         ...         ...\n",
       "886           0         1         0         1         0           0           0           1\n",
       "887           1         0         1         0         0           0           0           1\n",
       "888           1         0         0         0         1           0           0           1\n",
       "889           0         1         1         0         0           1           0           0\n",
       "890           0         1         0         0         1           0           1           0\n",
       "\n",
       "[891 rows x 8 columns]"
      ]
     },
     "execution_count": 14,
     "metadata": {},
     "output_type": "execute_result"
    }
   ],
   "source": [
    "added_cols = ['Sex_female', 'Sex_male', 'Pclass_1', 'Pclass_2', 'Pclass_3', 'Embarked_C', 'Embarked_Q', 'Embarked_S']\n",
    "df[added_cols]"
   ]
  },
  {
   "cell_type": "code",
   "execution_count": 15,
   "id": "87ca66f2-1e94-4b4f-b2ef-3e02d06a2011",
   "metadata": {},
   "outputs": [
    {
     "data": {
      "text/plain": [
       "tensor([0, 1, 1, 1, 0, 0, 0, 0, 1, 1, 1, 1, 0, 0, 0, 1, 0, 1, 0, 1, 0, 1, 1, 1, 0, 1, 0, 0, 1, 0, 0, 1, 1, 0, 0, 0, 1, 0, 0, 1, 0, 0, 0, 1,\n",
       "        1, 0, 0, 1, 0, 0, 0, 0, 1, 1, 0, 1, 1, 0, 1, 0, 0, 1, 0, 0, 0, 1, 1, 0, 1, 0, 0, 0, 0, 0, 1, 0, 0, 0, 1, 1, 0, 1, 1, 0, 1, 1, 0, 0,\n",
       "        1, 0, 0, 0, 0, 0, 0, 0, 0, 1, 1, 0, 0, 0, 0, 0, 0, 0, 1, 1, 0, 1, 0, 0, 0, 0, 0, 0, 0, 0, 0, 0, 0, 0, 0, 1, 0, 1, 0, 1, 1, 0, 0, 0,\n",
       "        0, 1, 0, 0, 1, 0, 0, 0, 0, 1, 1, 0, 0, 0, 1, 0, 0, 0, 0, 1, 0, 0, 0, 0, 1, 0, 0, 0, 0, 1, 0, 0, 0, 1, 1, 0, 0, 0, 0, 0, 1, 0, 0, 0,\n",
       "        0, 0, 0, 0, 0, 0, 0, 1, 1, 0, 1, 1, 0, 0, 1, 0, 1, 1, 1, 1, 0, 0, 1, 0, 0, 0, 0, 0, 1, 0, 0, 1, 1, 1, 0, 1, 0, 0, 0, 1, 1, 0, 1, 0,\n",
       "        1, 0, 0, 0, 1, 0, 1, 0, 0, 0, 1, 0, 0, 1, 0, 0, 0, 1, 0, 0, 0, 1, 0, 0, 0, 0, 0, 1, 1, 0, 0, 0, 0, 0, 0, 1, 1, 1, 1, 1, 0, 1, 0, 0,\n",
       "        0, 0, 0, 1, 1, 1, 0, 1, 1, 0, 1, 1, 0, 0, 0, 1, 0, 0, 0, 1, 0, 0, 1, 0, 1, 1, 1, 1, 0, 0, 0, 0, 0, 0, 1, 1, 1, 1, 0, 1, 0, 1, 1, 1,\n",
       "        0, 1, 1, 1, 0, 0, 0, 1, 1, 0, 1, 1, 0, 0, 1, 1, 0, 1, 0, 1, 1, 1, 1, 0, 0, 0, 1, 0, 0, 1, 1, 0, 1, 1, 0, 0, 0, 1, 1, 1, 1, 0, 0, 0,\n",
       "        0, 0, 0, 0, 1, 0, 1, 1, 0, 0, 0, 0, 0, 0, 1, 1, 1, 1, 1, 0, 0, 0, 0, 1, 1, 0, 0, 0, 1, 1, 0, 1, 0, 0, 0, 1, 0, 1, 1, 1, 0, 1, 1, 0,\n",
       "        0, 0, 0, 1, 1, 0, 0, 0, 0, 0, 0, 1, 0, 0, 0, 0, 1, 0, 1, 0, 1, 1, 0, 0, 0, 0, 0, 0, 0, 0, 1, 1, 0, 1, 1, 1, 1, 0, 0, 1, 0, 1, 0, 0,\n",
       "        1, 0, 0, 1, 1, 1, 1, 1, 1, 1, 0, 0, 0, 1, 0, 1, 0, 1, 1, 0, 1, 0, 0, 0, 0, 0, 0, 0, 0, 1, 0, 0, 1, 1, 0, 0, 0, 0, 0, 1, 0, 0, 0, 1,\n",
       "        1, 0, 1, 0, 0, 1, 0, 0, 0, 0, 0, 0, 1, 0, 0, 0, 0, 0, 0, 0, 1, 0, 1, 1, 0, 1, 1, 0, 1, 1, 0, 0, 1, 0, 1, 0, 1, 0, 0, 1, 0, 0, 1, 0,\n",
       "        0, 0, 1, 0, 0, 1, 0, 1, 0, 1, 0, 1, 1, 0, 0, 1, 0, 0, 1, 1, 0, 1, 1, 0, 0, 1, 1, 0, 1, 0, 1, 1, 0, 0, 0, 0, 0, 0, 0, 0, 0, 1, 1, 1,\n",
       "        1, 1, 0, 0, 1, 1, 0, 1, 1, 1, 0, 0, 0, 1, 0, 1, 0, 0, 0, 1, 0, 0, 0, 0, 1, 0, 0, 1, 1, 0, 0, 0, 1, 0, 0, 1, 1, 1, 0, 0, 1, 0, 0, 1,\n",
       "        0, 0, 1, 0, 0, 1, 1, 0, 0, 0, 0, 1, 0, 0, 1, 0, 1, 0, 0, 1, 0, 0, 0, 0, 0, 1, 0, 1, 1, 1, 0, 1, 0, 1, 0, 1, 0, 1, 0, 0, 0, 0, 0, 0,\n",
       "        1, 0, 0, 0, 1, 0, 0, 0, 0, 1, 1, 0, 0, 1, 0, 0, 0, 1, 0, 1, 0, 1, 0, 0, 0, 0, 0, 0, 0, 1, 1, 1, 1, 0, 0, 0, 0, 1, 0, 0, 1, 1, 0, 0,\n",
       "        0, 0, 1, 1, 1, 1, 1, 0, 1, 0, 0, 0, 1, 1, 0, 0, 1, 0, 0, 0, 1, 0, 1, 1, 0, 0, 1, 0, 0, 0, 0, 0, 0, 1, 0, 0, 1, 0, 1, 0, 1, 0, 0, 1,\n",
       "        0, 0, 1, 1, 0, 0, 1, 1, 0, 0, 0, 1, 0, 0, 1, 1, 0, 1, 0, 0, 0, 0, 0, 0, 0, 0, 1, 0, 0, 1, 0, 1, 1, 1, 0, 0, 0, 0, 1, 0, 1, 0, 0, 0,\n",
       "        0, 0, 0, 0, 1, 1, 0, 0, 0, 1, 1, 1, 1, 0, 0, 0, 0, 1, 0, 0, 0, 0, 0, 0, 0, 0, 0, 0, 1, 1, 0, 1, 0, 0, 0, 1, 1, 1, 1, 1, 0, 0, 0, 1,\n",
       "        0, 0, 1, 1, 0, 0, 1, 0, 0, 0, 0, 0, 0, 1, 0, 0, 0, 1, 0, 1, 1, 1, 1, 0, 0, 0, 1, 0, 0, 1, 1, 0, 0, 1, 0, 1, 0, 0, 1, 1, 0, 0, 0, 1,\n",
       "        1, 0, 0, 0, 0, 0, 0, 1, 0, 1, 0])"
      ]
     },
     "execution_count": 15,
     "metadata": {},
     "output_type": "execute_result"
    }
   ],
   "source": [
    "y = torch.tensor(df.Survived)\n",
    "y"
   ]
  },
  {
   "cell_type": "code",
   "execution_count": 16,
   "id": "f8091b37-3454-4c17-8826-3b0464d0e013",
   "metadata": {},
   "outputs": [
    {
     "data": {
      "text/plain": [
       "tensor([[22.0000,  1.0000,  0.0000,  2.1102,  0.0000,  1.0000,  0.0000,  0.0000,  1.0000,  0.0000,  0.0000,  1.0000],\n",
       "        [38.0000,  1.0000,  0.0000,  4.2806,  1.0000,  0.0000,  1.0000,  0.0000,  0.0000,  1.0000,  0.0000,  0.0000],\n",
       "        [26.0000,  0.0000,  0.0000,  2.1889,  1.0000,  0.0000,  0.0000,  0.0000,  1.0000,  0.0000,  0.0000,  1.0000],\n",
       "        [35.0000,  1.0000,  0.0000,  3.9908,  1.0000,  0.0000,  1.0000,  0.0000,  0.0000,  0.0000,  0.0000,  1.0000],\n",
       "        [35.0000,  0.0000,  0.0000,  2.2028,  0.0000,  1.0000,  0.0000,  0.0000,  1.0000,  0.0000,  0.0000,  1.0000],\n",
       "        [24.0000,  0.0000,  0.0000,  2.2469,  0.0000,  1.0000,  0.0000,  0.0000,  1.0000,  0.0000,  1.0000,  0.0000],\n",
       "        [54.0000,  0.0000,  0.0000,  3.9677,  0.0000,  1.0000,  1.0000,  0.0000,  0.0000,  0.0000,  0.0000,  1.0000],\n",
       "        ...,\n",
       "        [25.0000,  0.0000,  0.0000,  2.0857,  0.0000,  1.0000,  0.0000,  0.0000,  1.0000,  0.0000,  0.0000,  1.0000],\n",
       "        [39.0000,  0.0000,  5.0000,  3.4054,  1.0000,  0.0000,  0.0000,  0.0000,  1.0000,  0.0000,  1.0000,  0.0000],\n",
       "        [27.0000,  0.0000,  0.0000,  2.6391,  0.0000,  1.0000,  0.0000,  1.0000,  0.0000,  0.0000,  0.0000,  1.0000],\n",
       "        [19.0000,  0.0000,  0.0000,  3.4340,  1.0000,  0.0000,  1.0000,  0.0000,  0.0000,  0.0000,  0.0000,  1.0000],\n",
       "        [24.0000,  1.0000,  2.0000,  3.1966,  1.0000,  0.0000,  0.0000,  0.0000,  1.0000,  0.0000,  0.0000,  1.0000],\n",
       "        [26.0000,  0.0000,  0.0000,  3.4340,  0.0000,  1.0000,  1.0000,  0.0000,  0.0000,  1.0000,  0.0000,  0.0000],\n",
       "        [32.0000,  0.0000,  0.0000,  2.1691,  0.0000,  1.0000,  0.0000,  0.0000,  1.0000,  0.0000,  1.0000,  0.0000]])"
      ]
     },
     "execution_count": 16,
     "metadata": {},
     "output_type": "execute_result"
    }
   ],
   "source": [
    "features_cols = ['Age', 'SibSp', 'Parch', 'LogFare'] + added_cols\n",
    "X = torch.tensor(df[features_cols].values, dtype=torch.float)\n",
    "X"
   ]
  },
  {
   "cell_type": "code",
   "execution_count": 17,
   "id": "72eeda19-68cf-42ea-996c-9db4e48b6c85",
   "metadata": {},
   "outputs": [
    {
     "data": {
      "text/plain": [
       "tensor([[0.2750, 0.1250, 0.0000, 0.3381, 0.0000, 1.0000, 0.0000, 0.0000, 1.0000, 0.0000, 0.0000, 1.0000],\n",
       "        [0.4750, 0.1250, 0.0000, 0.6859, 1.0000, 0.0000, 1.0000, 0.0000, 0.0000, 1.0000, 0.0000, 0.0000],\n",
       "        [0.3250, 0.0000, 0.0000, 0.3507, 1.0000, 0.0000, 0.0000, 0.0000, 1.0000, 0.0000, 0.0000, 1.0000],\n",
       "        [0.4375, 0.1250, 0.0000, 0.6395, 1.0000, 0.0000, 1.0000, 0.0000, 0.0000, 0.0000, 0.0000, 1.0000],\n",
       "        [0.4375, 0.0000, 0.0000, 0.3530, 0.0000, 1.0000, 0.0000, 0.0000, 1.0000, 0.0000, 0.0000, 1.0000],\n",
       "        [0.3000, 0.0000, 0.0000, 0.3600, 0.0000, 1.0000, 0.0000, 0.0000, 1.0000, 0.0000, 1.0000, 0.0000],\n",
       "        [0.6750, 0.0000, 0.0000, 0.6358, 0.0000, 1.0000, 1.0000, 0.0000, 0.0000, 0.0000, 0.0000, 1.0000],\n",
       "        ...,\n",
       "        [0.3125, 0.0000, 0.0000, 0.3342, 0.0000, 1.0000, 0.0000, 0.0000, 1.0000, 0.0000, 0.0000, 1.0000],\n",
       "        [0.4875, 0.0000, 0.8333, 0.5456, 1.0000, 0.0000, 0.0000, 0.0000, 1.0000, 0.0000, 1.0000, 0.0000],\n",
       "        [0.3375, 0.0000, 0.0000, 0.4229, 0.0000, 1.0000, 0.0000, 1.0000, 0.0000, 0.0000, 0.0000, 1.0000],\n",
       "        [0.2375, 0.0000, 0.0000, 0.5502, 1.0000, 0.0000, 1.0000, 0.0000, 0.0000, 0.0000, 0.0000, 1.0000],\n",
       "        [0.3000, 0.1250, 0.3333, 0.5122, 1.0000, 0.0000, 0.0000, 0.0000, 1.0000, 0.0000, 0.0000, 1.0000],\n",
       "        [0.3250, 0.0000, 0.0000, 0.5502, 0.0000, 1.0000, 1.0000, 0.0000, 0.0000, 1.0000, 0.0000, 0.0000],\n",
       "        [0.4000, 0.0000, 0.0000, 0.3476, 0.0000, 1.0000, 0.0000, 0.0000, 1.0000, 0.0000, 1.0000, 0.0000]])"
      ]
     },
     "execution_count": 17,
     "metadata": {},
     "output_type": "execute_result"
    }
   ],
   "source": [
    "vals, idx = X.max(axis=0)\n",
    "X = X/vals\n",
    "X"
   ]
  },
  {
   "cell_type": "code",
   "execution_count": 18,
   "id": "910c5db7-3d3e-460f-b53c-515cf5df98f2",
   "metadata": {},
   "outputs": [
    {
     "data": {
      "text/plain": [
       "(torch.Size([891, 12]), torch.Size([891]))"
      ]
     },
     "execution_count": 18,
     "metadata": {},
     "output_type": "execute_result"
    }
   ],
   "source": [
    "X.shape, y.shape"
   ]
  },
  {
   "cell_type": "markdown",
   "id": "99b88af7-e13d-43be-af27-4cd4abebcd71",
   "metadata": {},
   "source": [
    "## Linear Model"
   ]
  },
  {
   "cell_type": "code",
   "execution_count": 19,
   "id": "f075c1b2-8307-4adf-aa9d-95c3bed30386",
   "metadata": {},
   "outputs": [
    {
     "data": {
      "text/plain": [
       "tensor([-0.4629,  0.1386,  0.2409, -0.2262, -0.2632, -0.3147,  0.4876,  0.3136,  0.2799, -0.4392,  0.2103,  0.3625])"
      ]
     },
     "execution_count": 19,
     "metadata": {},
     "output_type": "execute_result"
    }
   ],
   "source": [
    "torch.manual_seed(442)\n",
    "\n",
    "n_coeffs = X.shape[1]\n",
    "coeffs = torch.rand(n_coeffs) - 0.5\n",
    "coeffs"
   ]
  },
  {
   "cell_type": "code",
   "execution_count": 20,
   "id": "2d20d101-bdbe-4b2c-8533-632529733197",
   "metadata": {},
   "outputs": [
    {
     "data": {
      "text/plain": [
       "tensor([ 0.1412, -0.5725,  0.1494,  0.2571,  0.0453, -0.0448,  0.0792,  0.2961,  0.2128, -0.5770])"
      ]
     },
     "execution_count": 20,
     "metadata": {},
     "output_type": "execute_result"
    }
   ],
   "source": [
    "preds = (X*coeffs).sum(axis=1)\n",
    "preds[:10]"
   ]
  },
  {
   "cell_type": "markdown",
   "id": "0725441f-59d7-4794-96ab-e502a632037d",
   "metadata": {},
   "source": [
    "# Loss Function MAE"
   ]
  },
  {
   "cell_type": "code",
   "execution_count": 21,
   "id": "203bfb0b-d2bb-4398-87d4-06de31095234",
   "metadata": {},
   "outputs": [],
   "source": [
    "def mae(preds, actuals):\n",
    "    return torch.abs(preds - actuals).mean()"
   ]
  },
  {
   "cell_type": "code",
   "execution_count": 22,
   "id": "3d2629e6-21f3-4ff2-bd66-b81ff350835a",
   "metadata": {},
   "outputs": [
    {
     "data": {
      "text/plain": [
       "tensor(0.5200)"
      ]
     },
     "execution_count": 22,
     "metadata": {},
     "output_type": "execute_result"
    }
   ],
   "source": [
    "mae(preds, y)"
   ]
  },
  {
   "cell_type": "code",
   "execution_count": 23,
   "id": "a6444cf2-84a8-42a1-a78e-dcbad97878c6",
   "metadata": {},
   "outputs": [],
   "source": [
    "def calc_preds(X, coeffs):\n",
    "    return (X*coeffs).sum(axis=1)\n",
    "\n",
    "def calc_loss(X, coeffs, actuals):\n",
    "    preds = calc_preds(X, coeffs)\n",
    "    return mae(preds, actuals)"
   ]
  },
  {
   "cell_type": "markdown",
   "id": "0be690aa-8b2f-4181-a71c-b8b3a9af6e99",
   "metadata": {},
   "source": [
    "## One step SGD"
   ]
  },
  {
   "cell_type": "code",
   "execution_count": 24,
   "id": "cd3dc081-3418-4646-b1b4-07cbfec9fdb1",
   "metadata": {},
   "outputs": [
    {
     "name": "stdout",
     "output_type": "stream",
     "text": [
      "tensor(0.5185)\n"
     ]
    }
   ],
   "source": [
    "coeffs.requires_grad_()\n",
    "loss = calc_loss(X, coeffs, y)\n",
    "loss.backward()\n",
    "with torch.no_grad():\n",
    "    coeffs.sub_(0.01*coeffs.grad)\n",
    "    coeffs.grad.zero_()\n",
    "    print(calc_loss(X, coeffs, y))"
   ]
  },
  {
   "cell_type": "markdown",
   "id": "82172342-49b7-4582-b15f-5c47846d5ff9",
   "metadata": {},
   "source": [
    "## Training Loop"
   ]
  },
  {
   "cell_type": "code",
   "execution_count": 25,
   "id": "df3ae508-c41e-4c0e-8432-96d23f258d8b",
   "metadata": {},
   "outputs": [
    {
     "data": {
      "text/plain": [
       "((#713) [788,525,821,253,374,98,215,313,281,305...],\n",
       " (#178) [303,778,531,385,134,476,691,443,386,128...])"
      ]
     },
     "execution_count": 25,
     "metadata": {},
     "output_type": "execute_result"
    }
   ],
   "source": [
    "from fastai.data.transforms import RandomSplitter\n",
    "trn_idx, val_idx = RandomSplitter(seed=42)(df)\n",
    "trn_idx, val_idx"
   ]
  },
  {
   "cell_type": "code",
   "execution_count": 26,
   "id": "4196d3ae-1a03-45de-8b57-8aa839c9909b",
   "metadata": {},
   "outputs": [
    {
     "data": {
      "text/plain": [
       "(713, 178)"
      ]
     },
     "execution_count": 26,
     "metadata": {},
     "output_type": "execute_result"
    }
   ],
   "source": [
    "X_train = X[trn_idx]\n",
    "X_val = X[val_idx]\n",
    "y_train = y[trn_idx]\n",
    "y_val = y[val_idx]\n",
    "len(X_train),len(X_val)"
   ]
  },
  {
   "cell_type": "code",
   "execution_count": 27,
   "id": "55024283-64f7-4eda-9da9-56b200a249ed",
   "metadata": {},
   "outputs": [],
   "source": [
    "def init_coeffs():\n",
    "    return (torch.rand(n_coeffs) - 0.5).requires_grad_()"
   ]
  },
  {
   "cell_type": "code",
   "execution_count": 28,
   "id": "dd84d3f3-960e-4afb-b203-bc62fa150605",
   "metadata": {},
   "outputs": [],
   "source": [
    "def update_coeffs(coeffs, lr):\n",
    "    coeffs.sub_(lr*coeffs.grad)\n",
    "    coeffs.grad.zero_()"
   ]
  },
  {
   "cell_type": "code",
   "execution_count": 29,
   "id": "3ea25c39-e367-4158-bdd9-e8d51f433386",
   "metadata": {},
   "outputs": [],
   "source": [
    "def one_epoch(coeffs, lr):\n",
    "    loss = calc_loss(X_train, coeffs, y_train)\n",
    "    loss.backward()\n",
    "    with torch.no_grad():\n",
    "        update_coeffs(coeffs, lr)\n",
    "    print(f\"{loss:.3f}\", end=\"; \")"
   ]
  },
  {
   "cell_type": "code",
   "execution_count": 30,
   "id": "9946c369-eab2-484d-9f4a-b2d51822ef57",
   "metadata": {},
   "outputs": [],
   "source": [
    "def train_model(epochs=30, lr=0.01):\n",
    "    torch.manual_seed(442)\n",
    "    coeffs = init_coeffs()\n",
    "    for i in range(epochs):\n",
    "        one_epoch(coeffs, lr)\n",
    "    return coeffs"
   ]
  },
  {
   "cell_type": "code",
   "execution_count": 31,
   "id": "4c2d2ce8-629e-4058-9426-63aac48f20ee",
   "metadata": {},
   "outputs": [
    {
     "name": "stdout",
     "output_type": "stream",
     "text": [
      "0.518; 0.491; 0.468; 0.445; 0.422; 0.400; 0.378; 0.358; 0.340; 0.327; 0.315; 0.306; 0.308; 0.311; 0.311; 0.292; 0.296; 0.287; "
     ]
    }
   ],
   "source": [
    "coeffs = train_model(18, lr=0.2)"
   ]
  },
  {
   "cell_type": "code",
   "execution_count": 32,
   "id": "6b736fe7-f4dd-4c07-ad0e-fe5b83227fec",
   "metadata": {},
   "outputs": [
    {
     "data": {
      "text/plain": [
       "{'Age': tensor(-0.2581),\n",
       " 'SibSp': tensor(0.0894),\n",
       " 'Parch': tensor(0.2346),\n",
       " 'LogFare': tensor(0.0275),\n",
       " 'Sex_female': tensor(0.2574),\n",
       " 'Sex_male': tensor(-0.4129),\n",
       " 'Pclass_1': tensor(0.7098),\n",
       " 'Pclass_2': tensor(0.4246),\n",
       " 'Pclass_3': tensor(0.3691),\n",
       " 'Embarked_C': tensor(0.0955),\n",
       " 'Embarked_Q': tensor(0.2490),\n",
       " 'Embarked_S': tensor(0.2116)}"
      ]
     },
     "execution_count": 32,
     "metadata": {},
     "output_type": "execute_result"
    }
   ],
   "source": [
    "def show_coeffs(): \n",
    "    return dict(zip(features_cols, coeffs.requires_grad_(False)))\n",
    "show_coeffs()"
   ]
  },
  {
   "cell_type": "markdown",
   "id": "1f159573-6364-43b1-a927-c091e034b581",
   "metadata": {},
   "source": [
    "## Measuring Accuracy"
   ]
  },
  {
   "cell_type": "code",
   "execution_count": 33,
   "id": "b5ebe039-e907-4142-a674-cd6f6984777f",
   "metadata": {},
   "outputs": [
    {
     "data": {
      "text/plain": [
       "tensor([ 0.8650,  0.1373, -0.0164,  0.1843,  0.1544,  0.1385,  0.7599,  0.8149,  0.3157,  0.7087,  0.0742,  0.0368,  0.2162,  0.8077,\n",
       "         0.0670,  0.3779,  0.3134,  0.8666,  0.1121,  0.7481,  0.1000,  0.3425,  1.0079,  0.8467,  0.1125,  0.1532,  0.8961,  0.3231,\n",
       "         0.1230,  0.8076,  0.9254,  0.9376,  0.1161,  0.0791,  0.8457,  0.9699,  0.3725,  1.0040,  0.1001,  0.7782,  0.1728,  0.1001,\n",
       "         0.1984,  0.9786,  0.1130,  0.9177,  0.1018,  0.1515,  0.1369,  0.7764,  0.4462,  0.2899,  0.2770,  0.0963,  0.1503,  0.1309,\n",
       "         0.1373,  0.0752,  0.1098,  0.0884,  0.3104,  0.1333,  0.2656,  0.1097,  0.7774,  0.4991,  0.1576,  0.0562,  0.1388,  0.7603,\n",
       "         0.0936,  0.7350,  0.1341,  0.1007,  0.4456,  0.1258,  0.1001,  0.4170,  0.1737,  0.0840,  0.2979,  1.1200,  0.1032,  0.0997,\n",
       "         0.7431,  0.1325,  0.3662,  1.2441,  0.7126,  0.1608,  0.0744,  0.1001,  0.9865, -0.0358,  0.7943,  0.0027,  0.0895,  0.8345,\n",
       "         0.8141,  0.1529,  0.1696,  0.8076,  0.0742,  0.0807,  0.4376,  0.0995,  0.0814,  0.8311,  0.3428,  0.0946,  0.8799,  0.7622,\n",
       "         0.4462,  1.1408,  0.1001,  0.8994,  0.8274,  0.1373,  0.0418,  0.9648,  0.2163,  0.2684,  0.1373,  0.9602, -0.0165,  0.4301,\n",
       "         0.7670,  0.7638,  0.1266,  0.1071,  1.1469,  0.1141,  0.8032,  0.8004,  1.0184,  0.1162,  0.0448,  0.0846,  0.0287,  0.7944,\n",
       "         0.1382,  0.9253,  0.0318,  0.1115,  0.8477,  1.0060,  0.0552,  0.7366,  1.1826,  0.6280,  0.8153,  0.8858,  0.8367,  0.2782,\n",
       "         0.1642,  0.2768,  0.1001,  0.7952,  0.1253,  0.1025,  1.0025,  0.0397,  0.1150,  0.5029,  0.9701,  1.1028,  0.8784,  0.7698,\n",
       "         0.4942,  0.3463,  0.9582,  0.1186,  1.1375,  0.1007,  0.0355,  1.1597,  0.4463,  0.2015])"
      ]
     },
     "execution_count": 33,
     "metadata": {},
     "output_type": "execute_result"
    }
   ],
   "source": [
    "preds = calc_preds(X_val, coeffs)\n",
    "preds"
   ]
  },
  {
   "cell_type": "code",
   "execution_count": 34,
   "id": "588de5bf-379b-46b7-814b-50307dc7ad05",
   "metadata": {},
   "outputs": [
    {
     "data": {
      "text/plain": [
       "tensor(0.7978)"
      ]
     },
     "execution_count": 34,
     "metadata": {},
     "output_type": "execute_result"
    }
   ],
   "source": [
    "((preds >= 0.5) == y_val).float().mean()"
   ]
  },
  {
   "cell_type": "code",
   "execution_count": 35,
   "id": "1f57c8a2-eb66-472f-a2cc-577de2749c96",
   "metadata": {},
   "outputs": [],
   "source": [
    "def accuracy(preds, actuals):\n",
    "    return (actuals.bool() == (preds >= 0.5)).float().mean()"
   ]
  },
  {
   "cell_type": "code",
   "execution_count": 36,
   "id": "67c51bdd-611f-429f-a010-5ec96aa570a2",
   "metadata": {},
   "outputs": [
    {
     "data": {
      "text/plain": [
       "tensor(0.7978)"
      ]
     },
     "execution_count": 36,
     "metadata": {},
     "output_type": "execute_result"
    }
   ],
   "source": [
    "accuracy(preds, y_val)"
   ]
  },
  {
   "cell_type": "markdown",
   "id": "43f6dbf3-5609-4144-bc3b-6fc6c8207ae8",
   "metadata": {},
   "source": [
    "## Using Sigmoid, boundary (0,1)"
   ]
  },
  {
   "cell_type": "code",
   "execution_count": 37,
   "id": "a8d78948-1d29-4035-851c-0bfe27b9d816",
   "metadata": {},
   "outputs": [],
   "source": [
    "def calc_preds(X, coeffs):\n",
    "    return torch.sigmoid((X*coeffs).sum(axis=1))"
   ]
  },
  {
   "cell_type": "code",
   "execution_count": 38,
   "id": "204fb391-8007-4cf0-a459-5212ce3bbbe3",
   "metadata": {},
   "outputs": [
    {
     "name": "stdout",
     "output_type": "stream",
     "text": [
      "0.503; 0.326; 0.294; 0.207; 0.201; 0.199; 0.198; 0.197; 0.196; 0.196; 0.196; 0.195; 0.195; 0.195; 0.195; 0.195; 0.195; 0.195; "
     ]
    }
   ],
   "source": [
    "coeffs = train_model(18, lr=100)"
   ]
  },
  {
   "cell_type": "code",
   "execution_count": 39,
   "id": "b37db778-7e8a-4f1a-9c14-acb7f55a2328",
   "metadata": {},
   "outputs": [
    {
     "data": {
      "text/plain": [
       "{'Age': tensor(-1.5448),\n",
       " 'SibSp': tensor(-0.8796),\n",
       " 'Parch': tensor(-0.2216),\n",
       " 'LogFare': tensor(0.2277),\n",
       " 'Sex_female': tensor(8.1222),\n",
       " 'Sex_male': tensor(-10.3509),\n",
       " 'Pclass_1': tensor(3.8034),\n",
       " 'Pclass_2': tensor(1.6793),\n",
       " 'Pclass_3': tensor(-6.0523),\n",
       " 'Embarked_C': tensor(1.1899),\n",
       " 'Embarked_Q': tensor(1.6941),\n",
       " 'Embarked_S': tensor(-4.4010)}"
      ]
     },
     "execution_count": 39,
     "metadata": {},
     "output_type": "execute_result"
    }
   ],
   "source": [
    "show_coeffs()"
   ]
  },
  {
   "cell_type": "code",
   "execution_count": 40,
   "id": "45dac605-21d5-421f-8eae-e95e67771733",
   "metadata": {},
   "outputs": [
    {
     "data": {
      "text/plain": [
       "tensor([    1.0000,     0.0000,     0.0000,     0.0000,     0.0000,     0.0000,     0.9624,     0.9930,     0.0000,     0.9407,     0.0000,\n",
       "            0.0000,     0.0000,     0.9671,     0.0000,     0.0000,     0.0000,     0.9933,     0.0000,     0.0548,     0.0000,     0.0000,\n",
       "            1.0000,     0.9884,     0.0000,     0.0000,     0.0827,     0.0000,     0.0000,     0.9671,     0.9938,     0.0422,     0.0000,\n",
       "            0.0000,     1.0000,     0.0597,     0.0000,     1.0000,     0.0000,     0.0550,     0.0000,     0.0000,     0.0000,     1.0000,\n",
       "            0.0000,     0.0402,     0.0000,     0.0000,     0.0000,     0.0642,     0.0031,     0.0000,     0.0000,     0.0000,     0.0000,\n",
       "            0.0000,     0.0000,     0.0000,     0.0000,     0.0000,     0.0030,     0.0000,     0.0000,     0.0000,     0.9897,     0.0000,\n",
       "            0.0000,     0.0000,     0.0000,     0.9903,     0.0000,     0.9440,     0.0000,     0.0000,     0.0000,     0.0000,     0.0000,\n",
       "            0.0000,     0.0000,     0.0000,     0.0000,     1.0000,     0.0000,     0.0000,     0.9893,     0.0003,     0.0035,     0.9993,\n",
       "            1.0000,     0.0000,     0.0000,     0.0000,     1.0000,     0.0000,     0.9568,     0.0003,     0.0000,     0.9607,     0.9683,\n",
       "            0.0000,     0.0000,     0.9671,     0.0000,     0.0000,     0.0000,     0.0000,     0.0000,     0.9902,     0.0031,     0.0000,\n",
       "            0.9919,     0.0506,     0.0000,     1.0000,     0.0000,     1.0000,     0.0339,     0.0000,     0.0000,     1.0000,     0.0000,\n",
       "            0.0015,     0.0000,     0.0566,     0.0000,     0.0000,     0.0610,     0.0599,     0.0000,     0.0000,     0.9994,     0.0000,\n",
       "            0.9911,     0.9924,     1.0000,     0.0000,     0.0000,     0.0000,     0.0003,     0.9921,     0.0000,     1.0000,     0.0000,\n",
       "            0.0000,     0.0456,     0.9983,     0.0000,     0.9447,     0.9993,     0.9208,     0.0578,     0.9646,     0.9938,     0.0000,\n",
       "            0.0000,     0.0000,     0.0000,     0.0606,     0.0000,     0.0000,     1.0000,     0.0003,     0.0000,     0.0000,     1.0000,\n",
       "            0.9989,     0.9926,     0.9909,     0.0000,     0.0000,     0.0659,     0.0000,     0.9992,     0.0000,     0.0000,     0.9990,\n",
       "            0.0000,     0.0000])"
      ]
     },
     "execution_count": 40,
     "metadata": {},
     "output_type": "execute_result"
    }
   ],
   "source": [
    "preds = calc_preds(X_val, coeffs)\n",
    "preds"
   ]
  },
  {
   "cell_type": "code",
   "execution_count": 41,
   "id": "355b86cd-7059-4e6a-8723-c344e7703960",
   "metadata": {},
   "outputs": [
    {
     "data": {
      "text/plain": [
       "tensor(0.8258)"
      ]
     },
     "execution_count": 41,
     "metadata": {},
     "output_type": "execute_result"
    }
   ],
   "source": [
    "accuracy(preds, y_val)"
   ]
  },
  {
   "cell_type": "markdown",
   "id": "58bbc5f4-6f89-47e7-b885-6305d460b439",
   "metadata": {},
   "source": [
    "## Submitting to Kaggle"
   ]
  },
  {
   "cell_type": "code",
   "execution_count": 42,
   "id": "ca271d53-71dc-427f-ac0e-8ba61423cded",
   "metadata": {},
   "outputs": [
    {
     "data": {
      "text/html": [
       "<div>\n",
       "<style scoped>\n",
       "    .dataframe tbody tr th:only-of-type {\n",
       "        vertical-align: middle;\n",
       "    }\n",
       "\n",
       "    .dataframe tbody tr th {\n",
       "        vertical-align: top;\n",
       "    }\n",
       "\n",
       "    .dataframe thead th {\n",
       "        text-align: right;\n",
       "    }\n",
       "</style>\n",
       "<table border=\"1\" class=\"dataframe\">\n",
       "  <thead>\n",
       "    <tr style=\"text-align: right;\">\n",
       "      <th></th>\n",
       "      <th>PassengerId</th>\n",
       "      <th>Pclass</th>\n",
       "      <th>Name</th>\n",
       "      <th>Sex</th>\n",
       "      <th>Age</th>\n",
       "      <th>SibSp</th>\n",
       "      <th>Parch</th>\n",
       "      <th>Ticket</th>\n",
       "      <th>Fare</th>\n",
       "      <th>Cabin</th>\n",
       "      <th>Embarked</th>\n",
       "    </tr>\n",
       "  </thead>\n",
       "  <tbody>\n",
       "    <tr>\n",
       "      <th>0</th>\n",
       "      <td>892</td>\n",
       "      <td>3</td>\n",
       "      <td>Kelly, Mr. James</td>\n",
       "      <td>male</td>\n",
       "      <td>34.5</td>\n",
       "      <td>0</td>\n",
       "      <td>0</td>\n",
       "      <td>330911</td>\n",
       "      <td>7.8292</td>\n",
       "      <td>NaN</td>\n",
       "      <td>Q</td>\n",
       "    </tr>\n",
       "    <tr>\n",
       "      <th>1</th>\n",
       "      <td>893</td>\n",
       "      <td>3</td>\n",
       "      <td>Wilkes, Mrs. James (Ellen Needs)</td>\n",
       "      <td>female</td>\n",
       "      <td>47.0</td>\n",
       "      <td>1</td>\n",
       "      <td>0</td>\n",
       "      <td>363272</td>\n",
       "      <td>7.0000</td>\n",
       "      <td>NaN</td>\n",
       "      <td>S</td>\n",
       "    </tr>\n",
       "    <tr>\n",
       "      <th>2</th>\n",
       "      <td>894</td>\n",
       "      <td>2</td>\n",
       "      <td>Myles, Mr. Thomas Francis</td>\n",
       "      <td>male</td>\n",
       "      <td>62.0</td>\n",
       "      <td>0</td>\n",
       "      <td>0</td>\n",
       "      <td>240276</td>\n",
       "      <td>9.6875</td>\n",
       "      <td>NaN</td>\n",
       "      <td>Q</td>\n",
       "    </tr>\n",
       "    <tr>\n",
       "      <th>3</th>\n",
       "      <td>895</td>\n",
       "      <td>3</td>\n",
       "      <td>Wirz, Mr. Albert</td>\n",
       "      <td>male</td>\n",
       "      <td>27.0</td>\n",
       "      <td>0</td>\n",
       "      <td>0</td>\n",
       "      <td>315154</td>\n",
       "      <td>8.6625</td>\n",
       "      <td>NaN</td>\n",
       "      <td>S</td>\n",
       "    </tr>\n",
       "    <tr>\n",
       "      <th>4</th>\n",
       "      <td>896</td>\n",
       "      <td>3</td>\n",
       "      <td>Hirvonen, Mrs. Alexander (Helga E Lindqvist)</td>\n",
       "      <td>female</td>\n",
       "      <td>22.0</td>\n",
       "      <td>1</td>\n",
       "      <td>1</td>\n",
       "      <td>3101298</td>\n",
       "      <td>12.2875</td>\n",
       "      <td>NaN</td>\n",
       "      <td>S</td>\n",
       "    </tr>\n",
       "    <tr>\n",
       "      <th>...</th>\n",
       "      <td>...</td>\n",
       "      <td>...</td>\n",
       "      <td>...</td>\n",
       "      <td>...</td>\n",
       "      <td>...</td>\n",
       "      <td>...</td>\n",
       "      <td>...</td>\n",
       "      <td>...</td>\n",
       "      <td>...</td>\n",
       "      <td>...</td>\n",
       "      <td>...</td>\n",
       "    </tr>\n",
       "    <tr>\n",
       "      <th>413</th>\n",
       "      <td>1305</td>\n",
       "      <td>3</td>\n",
       "      <td>Spector, Mr. Woolf</td>\n",
       "      <td>male</td>\n",
       "      <td>NaN</td>\n",
       "      <td>0</td>\n",
       "      <td>0</td>\n",
       "      <td>A.5. 3236</td>\n",
       "      <td>8.0500</td>\n",
       "      <td>NaN</td>\n",
       "      <td>S</td>\n",
       "    </tr>\n",
       "    <tr>\n",
       "      <th>414</th>\n",
       "      <td>1306</td>\n",
       "      <td>1</td>\n",
       "      <td>Oliva y Ocana, Dona. Fermina</td>\n",
       "      <td>female</td>\n",
       "      <td>39.0</td>\n",
       "      <td>0</td>\n",
       "      <td>0</td>\n",
       "      <td>PC 17758</td>\n",
       "      <td>108.9000</td>\n",
       "      <td>C105</td>\n",
       "      <td>C</td>\n",
       "    </tr>\n",
       "    <tr>\n",
       "      <th>415</th>\n",
       "      <td>1307</td>\n",
       "      <td>3</td>\n",
       "      <td>Saether, Mr. Simon Sivertsen</td>\n",
       "      <td>male</td>\n",
       "      <td>38.5</td>\n",
       "      <td>0</td>\n",
       "      <td>0</td>\n",
       "      <td>SOTON/O.Q. 3101262</td>\n",
       "      <td>7.2500</td>\n",
       "      <td>NaN</td>\n",
       "      <td>S</td>\n",
       "    </tr>\n",
       "    <tr>\n",
       "      <th>416</th>\n",
       "      <td>1308</td>\n",
       "      <td>3</td>\n",
       "      <td>Ware, Mr. Frederick</td>\n",
       "      <td>male</td>\n",
       "      <td>NaN</td>\n",
       "      <td>0</td>\n",
       "      <td>0</td>\n",
       "      <td>359309</td>\n",
       "      <td>8.0500</td>\n",
       "      <td>NaN</td>\n",
       "      <td>S</td>\n",
       "    </tr>\n",
       "    <tr>\n",
       "      <th>417</th>\n",
       "      <td>1309</td>\n",
       "      <td>3</td>\n",
       "      <td>Peter, Master. Michael J</td>\n",
       "      <td>male</td>\n",
       "      <td>NaN</td>\n",
       "      <td>1</td>\n",
       "      <td>1</td>\n",
       "      <td>2668</td>\n",
       "      <td>22.3583</td>\n",
       "      <td>NaN</td>\n",
       "      <td>C</td>\n",
       "    </tr>\n",
       "  </tbody>\n",
       "</table>\n",
       "<p>418 rows × 11 columns</p>\n",
       "</div>"
      ],
      "text/plain": [
       "     PassengerId  Pclass                                          Name     Sex   Age  SibSp  Parch              Ticket      Fare Cabin  \\\n",
       "0            892       3                              Kelly, Mr. James    male  34.5      0      0              330911    7.8292   NaN   \n",
       "1            893       3              Wilkes, Mrs. James (Ellen Needs)  female  47.0      1      0              363272    7.0000   NaN   \n",
       "2            894       2                     Myles, Mr. Thomas Francis    male  62.0      0      0              240276    9.6875   NaN   \n",
       "3            895       3                              Wirz, Mr. Albert    male  27.0      0      0              315154    8.6625   NaN   \n",
       "4            896       3  Hirvonen, Mrs. Alexander (Helga E Lindqvist)  female  22.0      1      1             3101298   12.2875   NaN   \n",
       "..           ...     ...                                           ...     ...   ...    ...    ...                 ...       ...   ...   \n",
       "413         1305       3                            Spector, Mr. Woolf    male   NaN      0      0           A.5. 3236    8.0500   NaN   \n",
       "414         1306       1                  Oliva y Ocana, Dona. Fermina  female  39.0      0      0            PC 17758  108.9000  C105   \n",
       "415         1307       3                  Saether, Mr. Simon Sivertsen    male  38.5      0      0  SOTON/O.Q. 3101262    7.2500   NaN   \n",
       "416         1308       3                           Ware, Mr. Frederick    male   NaN      0      0              359309    8.0500   NaN   \n",
       "417         1309       3                      Peter, Master. Michael J    male   NaN      1      1                2668   22.3583   NaN   \n",
       "\n",
       "    Embarked  \n",
       "0          Q  \n",
       "1          S  \n",
       "2          Q  \n",
       "3          S  \n",
       "4          S  \n",
       "..       ...  \n",
       "413        S  \n",
       "414        C  \n",
       "415        S  \n",
       "416        S  \n",
       "417        C  \n",
       "\n",
       "[418 rows x 11 columns]"
      ]
     },
     "execution_count": 42,
     "metadata": {},
     "output_type": "execute_result"
    }
   ],
   "source": [
    "tst_df = pd.read_csv(path/'test.csv')\n",
    "tst_df"
   ]
  },
  {
   "cell_type": "code",
   "execution_count": 43,
   "id": "7b6fd18b-6c7d-4c41-ba6d-e1db11626e6b",
   "metadata": {},
   "outputs": [],
   "source": [
    "tst_df['Fare'] = tst_df.Fare.fillna(0)"
   ]
  },
  {
   "cell_type": "code",
   "execution_count": 44,
   "id": "25f0aeb6-9187-415d-a5de-ad45e1f2fa56",
   "metadata": {},
   "outputs": [],
   "source": [
    "tst_df.fillna(modes, inplace=True)\n",
    "tst_df['LogFare'] = np.log(tst_df['Fare']+1)\n",
    "tst_df = pd.get_dummies(tst_df, columns=[\"Sex\",\"Pclass\",\"Embarked\"])\n",
    "\n",
    "X_test = torch.tensor(tst_df[features_cols].values, dtype=torch.float)\n",
    "X_test = X_test / vals"
   ]
  },
  {
   "cell_type": "code",
   "execution_count": 45,
   "id": "e62ab1ac-4c91-4088-962b-6ee2bf3989df",
   "metadata": {},
   "outputs": [],
   "source": [
    "tst_df['Survived'] = (calc_preds(X_test, coeffs)>0.5).int()"
   ]
  },
  {
   "cell_type": "code",
   "execution_count": 46,
   "id": "ef007b48-97aa-4507-8f70-9ae7ff0a119a",
   "metadata": {},
   "outputs": [],
   "source": [
    "sub_df = tst_df[['PassengerId','Survived']]\n",
    "sub_df.to_csv('sub.csv', index=False)"
   ]
  },
  {
   "cell_type": "code",
   "execution_count": 47,
   "id": "ffebafd8-cc5a-4a6a-93d5-6a7f03ebb550",
   "metadata": {},
   "outputs": [
    {
     "name": "stdout",
     "output_type": "stream",
     "text": [
      "PassengerId,Survived\n",
      "892,0\n",
      "893,0\n",
      "894,0\n",
      "895,0\n",
      "896,0\n",
      "897,0\n",
      "898,1\n",
      "899,0\n",
      "900,1\n"
     ]
    }
   ],
   "source": [
    "!head sub.csv"
   ]
  },
  {
   "cell_type": "markdown",
   "id": "8109bde2-da1c-49b7-836c-98df5d8eeeb0",
   "metadata": {},
   "source": [
    "## Do the same using Matrix Products"
   ]
  },
  {
   "cell_type": "code",
   "execution_count": 48,
   "id": "8de3718a-1dc3-468c-bd0d-b63ee280b5a9",
   "metadata": {},
   "outputs": [
    {
     "data": {
      "text/plain": [
       "tensor([ 11.1267, -15.0934, -15.5998, -13.2629, -13.4591, -13.7264,   3.2430,   4.9561, -21.3059,   2.7645, -21.3423, -15.7219, -20.9372,\n",
       "          3.3803, -21.3872, -11.6965, -12.0827,   5.0011, -13.7055,  -2.8468, -21.1879, -11.9089,  12.3877,   4.4427, -21.1143, -15.1648,\n",
       "         -2.4062, -12.0247, -21.0497,   3.3798,   5.0753,  -3.1224, -21.0913, -21.3128,  11.0109,  -2.7566, -11.7263,  12.8073, -21.1873,\n",
       "         -2.8439, -13.3504, -21.1873, -13.7311,  12.6563, -21.1100,  -3.1722, -21.1584, -21.2256, -15.0968,  -2.6789,  -5.7583, -21.4604,\n",
       "        -21.3647, -21.2108, -13.4856, -13.6015, -15.0933, -21.5069, -21.1293, -21.2509,  -5.8143, -21.1663, -12.3680, -21.1298,   4.5611,\n",
       "        -11.2318, -13.4398, -21.4396, -15.5260,   4.6291, -21.2265,   2.8243, -13.5822, -21.1818, -11.2918, -21.0339, -21.1873, -11.6276,\n",
       "        -13.3433, -13.8791, -13.2142,  12.6196, -21.1686, -21.1906,   4.5241,  -8.0114,  -5.6436,   7.2455,  10.4582, -13.4205, -21.3405,\n",
       "        -21.1873,  12.7069, -15.7157,   3.0983,  -8.0809, -13.8407,   3.1971,   3.4184, -15.0012, -21.2191,   3.3798, -21.3424, -21.3038,\n",
       "        -11.5089, -13.7874, -21.2977,   4.6158,  -5.7853, -21.3981,   4.8096,  -2.9322, -11.2867,  13.0372, -21.1873,  12.0051,  -3.3486,\n",
       "        -15.0933, -21.5365,  12.3144, -21.4547,  -6.5031, -15.0933,  -2.8144, -15.5998, -11.3832,  -2.7346,  -2.7536, -21.0274, -13.9120,\n",
       "          7.3788, -21.2740,   4.7156,   4.8692,  12.7244, -21.0907, -14.1144, -21.2785,  -8.0939,   4.8374, -13.5557,  12.1610, -21.5974,\n",
       "        -15.2478,  -3.0417,   6.3576, -21.4552,   2.8375,   7.3137,   2.4539,  -2.7911,   3.3059,   5.0841, -15.2160, -15.2760, -22.0658,\n",
       "        -21.1873,  -2.7403, -13.6329, -21.1676,  12.7952,  -8.0292, -21.2666, -11.6525,  12.4280,   6.8529,   4.8961,   4.6857, -12.2386,\n",
       "        -11.8847,  -2.6506, -21.0711,   7.1436, -21.1818, -21.5740,   6.9116, -11.2861, -21.0217])"
      ]
     },
     "execution_count": 48,
     "metadata": {},
     "output_type": "execute_result"
    }
   ],
   "source": [
    "(X_val*coeffs).sum(axis=1)"
   ]
  },
  {
   "cell_type": "code",
   "execution_count": 49,
   "id": "f8614c4f-ca1f-4490-9c02-d664b83aa988",
   "metadata": {},
   "outputs": [
    {
     "data": {
      "text/plain": [
       "tensor([ 11.1267, -15.0934, -15.5998, -13.2629, -13.4591, -13.7264,   3.2430,   4.9561, -21.3059,   2.7645, -21.3423, -15.7219, -20.9372,\n",
       "          3.3803, -21.3872, -11.6965, -12.0827,   5.0011, -13.7055,  -2.8468, -21.1879, -11.9089,  12.3877,   4.4427, -21.1143, -15.1648,\n",
       "         -2.4062, -12.0247, -21.0497,   3.3798,   5.0753,  -3.1224, -21.0913, -21.3128,  11.0109,  -2.7566, -11.7263,  12.8073, -21.1873,\n",
       "         -2.8439, -13.3504, -21.1873, -13.7311,  12.6563, -21.1100,  -3.1722, -21.1584, -21.2256, -15.0968,  -2.6789,  -5.7583, -21.4604,\n",
       "        -21.3647, -21.2108, -13.4856, -13.6015, -15.0933, -21.5069, -21.1293, -21.2509,  -5.8143, -21.1663, -12.3680, -21.1298,   4.5611,\n",
       "        -11.2318, -13.4398, -21.4396, -15.5260,   4.6291, -21.2265,   2.8243, -13.5822, -21.1818, -11.2918, -21.0339, -21.1873, -11.6276,\n",
       "        -13.3433, -13.8791, -13.2142,  12.6196, -21.1686, -21.1906,   4.5241,  -8.0114,  -5.6436,   7.2455,  10.4582, -13.4205, -21.3405,\n",
       "        -21.1873,  12.7069, -15.7157,   3.0983,  -8.0809, -13.8407,   3.1971,   3.4184, -15.0012, -21.2191,   3.3798, -21.3424, -21.3038,\n",
       "        -11.5089, -13.7874, -21.2977,   4.6158,  -5.7853, -21.3981,   4.8096,  -2.9322, -11.2867,  13.0372, -21.1873,  12.0051,  -3.3486,\n",
       "        -15.0933, -21.5365,  12.3144, -21.4547,  -6.5031, -15.0933,  -2.8144, -15.5998, -11.3832,  -2.7346,  -2.7536, -21.0274, -13.9120,\n",
       "          7.3788, -21.2740,   4.7156,   4.8692,  12.7244, -21.0907, -14.1144, -21.2785,  -8.0939,   4.8374, -13.5557,  12.1610, -21.5974,\n",
       "        -15.2478,  -3.0417,   6.3576, -21.4552,   2.8375,   7.3137,   2.4539,  -2.7911,   3.3059,   5.0841, -15.2160, -15.2760, -22.0658,\n",
       "        -21.1873,  -2.7403, -13.6329, -21.1676,  12.7952,  -8.0292, -21.2666, -11.6525,  12.4280,   6.8529,   4.8961,   4.6857, -12.2386,\n",
       "        -11.8847,  -2.6506, -21.0711,   7.1436, -21.1818, -21.5740,   6.9116, -11.2861, -21.0217])"
      ]
     },
     "execution_count": 49,
     "metadata": {},
     "output_type": "execute_result"
    }
   ],
   "source": [
    "X_val@coeffs"
   ]
  },
  {
   "cell_type": "code",
   "execution_count": 50,
   "id": "fb12a46c-260a-4fd5-8886-e7399eb890a0",
   "metadata": {},
   "outputs": [],
   "source": [
    "def calc_preds(X, coeffs):\n",
    "    return torch.sigmoid(X@coeffs)"
   ]
  },
  {
   "cell_type": "code",
   "execution_count": 51,
   "id": "a306bd29-b5ae-47fb-9a04-25808daa21ee",
   "metadata": {},
   "outputs": [],
   "source": [
    "def init_coeffs():\n",
    "    return (torch.rand(n_coeffs, 1)*0.1).requires_grad_()"
   ]
  },
  {
   "cell_type": "code",
   "execution_count": 52,
   "id": "5f08e925-cd41-4cf7-b692-27115c63a52d",
   "metadata": {},
   "outputs": [],
   "source": [
    "y_train = y_train[:, None]\n",
    "y_val = y_val[:, None]"
   ]
  },
  {
   "cell_type": "code",
   "execution_count": 53,
   "id": "84839e57-e63e-4d10-9ed7-32b8b919957b",
   "metadata": {},
   "outputs": [
    {
     "name": "stdout",
     "output_type": "stream",
     "text": [
      "0.512; 0.323; 0.290; 0.205; 0.200; 0.198; 0.197; 0.197; 0.196; 0.196; 0.196; 0.195; 0.195; 0.195; 0.195; 0.195; 0.195; 0.194; 0.194; 0.194; 0.194; 0.194; 0.194; 0.194; 0.194; 0.194; 0.194; 0.194; 0.194; 0.194; "
     ]
    }
   ],
   "source": [
    "coeffs = train_model(lr=100)"
   ]
  },
  {
   "cell_type": "code",
   "execution_count": 55,
   "id": "c3a93a2e-34a4-49bf-aa78-8cd4ff3f5bd9",
   "metadata": {},
   "outputs": [
    {
     "data": {
      "text/plain": [
       "tensor([[    1.0000],\n",
       "        [    0.0000],\n",
       "        [    0.0000],\n",
       "        [    0.0000],\n",
       "        [    0.0000],\n",
       "        [    0.0000],\n",
       "        [    0.9757],\n",
       "        [    0.9954],\n",
       "        [    0.0000],\n",
       "        [    0.9643]], grad_fn=<SliceBackward0>)"
      ]
     },
     "execution_count": 55,
     "metadata": {},
     "output_type": "execute_result"
    }
   ],
   "source": [
    "preds = calc_preds(X_val, coeffs)\n",
    "preds[:10]"
   ]
  },
  {
   "cell_type": "code",
   "execution_count": 56,
   "id": "540247e9-f0cd-49dc-bf1a-398d447ac914",
   "metadata": {},
   "outputs": [
    {
     "data": {
      "text/plain": [
       "tensor(0.8258)"
      ]
     },
     "execution_count": 56,
     "metadata": {},
     "output_type": "execute_result"
    }
   ],
   "source": [
    "accuracy(preds, y_val)"
   ]
  },
  {
   "cell_type": "markdown",
   "id": "e55bc8e2-5944-4fd2-880e-374a4631252d",
   "metadata": {},
   "source": [
    "## Simple Neural Network"
   ]
  },
  {
   "cell_type": "code",
   "execution_count": 76,
   "id": "96775656-ffe7-4c07-bd2a-1138025e51c3",
   "metadata": {},
   "outputs": [],
   "source": [
    "import torch.nn.functional as F"
   ]
  },
  {
   "cell_type": "code",
   "execution_count": 84,
   "id": "014c2181-5d92-42c2-86e1-ef605ac75318",
   "metadata": {},
   "outputs": [],
   "source": [
    "def init_coeffs(n_hidden=20):\n",
    "    layer1 = (torch.rand(n_coeffs, n_hidden) - 0.5) / n_hidden\n",
    "    layer2 = torch.rand(n_hidden, 1) - 0.3\n",
    "    const = torch.rand(1)[0]\n",
    "    return layer1.requires_grad_(), layer2.requires_grad_(), const.requires_grad_() "
   ]
  },
  {
   "cell_type": "code",
   "execution_count": 88,
   "id": "d9e55ef2-9e83-4924-be8b-9035ef56f515",
   "metadata": {},
   "outputs": [],
   "source": [
    "def calc_preds(X, coeffs):\n",
    "    l1, l2, const = coeffs\n",
    "    res = F.relu(X@l1)\n",
    "    res = res@l2 + const\n",
    "    return torch.sigmoid(res)"
   ]
  },
  {
   "cell_type": "code",
   "execution_count": 89,
   "id": "9febe2ba-1b38-4d48-a073-ad44a26573ae",
   "metadata": {},
   "outputs": [],
   "source": [
    "def update_coeffs(coeffs, lr):\n",
    "    for layer in coeffs:\n",
    "        layer.sub_(layer.grad * lr)\n",
    "        layer.grad.zero_()"
   ]
  },
  {
   "cell_type": "code",
   "execution_count": 90,
   "id": "c7e34e39-b1f1-4a54-853b-ad3edd30d24a",
   "metadata": {},
   "outputs": [
    {
     "name": "stdout",
     "output_type": "stream",
     "text": [
      "0.544; 0.533; 0.521; 0.503; 0.483; 0.459; 0.429; 0.394; 0.358; 0.327; 0.302; 0.284; 0.271; 0.261; 0.253; 0.246; 0.242; 0.238; 0.234; 0.231; 0.229; 0.227; 0.226; 0.224; 0.223; 0.222; 0.220; 0.219; 0.218; 0.218; "
     ]
    }
   ],
   "source": [
    "coeffs = train_model(lr=1.4)"
   ]
  },
  {
   "cell_type": "code",
   "execution_count": 91,
   "id": "02456412-da21-4cb0-90b1-f0745ff1d888",
   "metadata": {},
   "outputs": [
    {
     "name": "stdout",
     "output_type": "stream",
     "text": [
      "0.544; 0.403; 0.234; 0.334; 0.207; 0.206; 0.210; 0.195; 0.194; 0.194; 0.194; 0.193; 0.193; 0.193; 0.193; 0.193; 0.193; 0.193; 0.193; 0.193; 0.193; 0.193; 0.193; 0.193; 0.193; 0.193; 0.193; 0.193; 0.193; 0.193; "
     ]
    }
   ],
   "source": [
    "coeffs = train_model(lr=20)"
   ]
  },
  {
   "cell_type": "code",
   "execution_count": 97,
   "id": "c664b21b-c214-4c80-824e-d7dd1b7d5bc2",
   "metadata": {},
   "outputs": [
    {
     "data": {
      "text/plain": [
       "tensor(0.8258)"
      ]
     },
     "execution_count": 97,
     "metadata": {},
     "output_type": "execute_result"
    }
   ],
   "source": [
    "preds = calc_preds(X_val, coeffs)\n",
    "accuracy(preds, y_val)"
   ]
  },
  {
   "cell_type": "markdown",
   "id": "c555ca73-b1fd-47ea-b854-c3c20c88545f",
   "metadata": {},
   "source": [
    "## Deep Learning"
   ]
  },
  {
   "cell_type": "code",
   "execution_count": 116,
   "id": "1703c720-15a8-4d29-9f57-3cd3d99258ba",
   "metadata": {},
   "outputs": [],
   "source": [
    "def init_coeffs():\n",
    "    n_hiddens = [10, 10]\n",
    "    sizes = [n_coeffs] + n_hiddens + [1]\n",
    "    n = len(sizes)\n",
    "    layers = [(torch.rand(sizes[i], sizes[i+1])-0.3)/sizes[i+1]*4 for i in range(n-1)]\n",
    "    consts = [(torch.rand(1)[0]-0.5)*0.1 for i in range(n-1)]\n",
    "    for l in layers+consts: l.requires_grad_()\n",
    "    return layers,consts"
   ]
  },
  {
   "cell_type": "code",
   "execution_count": 120,
   "id": "a0548129-6a7b-4e15-af9d-ba23070a5ef1",
   "metadata": {},
   "outputs": [],
   "source": [
    "def calc_preds(X, coeffs):\n",
    "    layers, consts = coeffs\n",
    "    n = len(layers)\n",
    "    res = X\n",
    "    for i,l in enumerate(layers):\n",
    "        res = res@l + consts[i]\n",
    "        if i!=n-1: \n",
    "            res = F.relu(res)\n",
    "    return torch.sigmoid(res)"
   ]
  },
  {
   "cell_type": "code",
   "execution_count": 121,
   "id": "53247f00-9360-4588-b119-759a0a2139ad",
   "metadata": {},
   "outputs": [],
   "source": [
    "def update_coeffs(coeffs, lr):\n",
    "    layers, consts = coeffs\n",
    "    for layer in layers + consts:\n",
    "        layer.sub_(layer.grad * lr)\n",
    "        layer.grad.zero_()"
   ]
  },
  {
   "cell_type": "code",
   "execution_count": 122,
   "id": "2c6cda6b-7823-4165-8d5d-fb57373fa4ca",
   "metadata": {},
   "outputs": [
    {
     "name": "stdout",
     "output_type": "stream",
     "text": [
      "0.514; 0.483; 0.469; 0.457; 0.446; 0.437; 0.429; 0.423; 0.418; 0.411; 0.376; 0.370; 0.364; 0.358; 0.348; 0.310; 0.227; 0.208; 0.209; 0.220; 0.205; 0.204; 0.211; 0.197; 0.196; 0.195; 0.194; 0.194; 0.194; 0.194; "
     ]
    }
   ],
   "source": [
    "coeffs = train_model(lr=4)"
   ]
  },
  {
   "cell_type": "code",
   "execution_count": 123,
   "id": "2d5eea6f-8b24-484e-8c99-2575524cae68",
   "metadata": {},
   "outputs": [
    {
     "data": {
      "text/plain": [
       "tensor(0.8258)"
      ]
     },
     "execution_count": 123,
     "metadata": {},
     "output_type": "execute_result"
    }
   ],
   "source": [
    "preds = calc_preds(X_val, coeffs)\n",
    "accuracy(preds, y_val)"
   ]
  },
  {
   "cell_type": "code",
   "execution_count": null,
   "id": "f6ffda5d-8a2f-4c0e-9070-d66f1d79b77b",
   "metadata": {},
   "outputs": [],
   "source": []
  }
 ],
 "metadata": {
  "kernelspec": {
   "display_name": "Python 3 (ipykernel)",
   "language": "python",
   "name": "python3"
  },
  "language_info": {
   "codemirror_mode": {
    "name": "ipython",
    "version": 3
   },
   "file_extension": ".py",
   "mimetype": "text/x-python",
   "name": "python",
   "nbconvert_exporter": "python",
   "pygments_lexer": "ipython3",
   "version": "3.9.13"
  }
 },
 "nbformat": 4,
 "nbformat_minor": 5
}
