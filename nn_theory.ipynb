{
 "cells": [
  {
   "cell_type": "markdown",
   "id": "c29760b8-8a4c-4a5d-bd76-3f71928a9b32",
   "metadata": {},
   "source": [
    "# Building Bolcks For Deep-Learning"
   ]
  },
  {
   "cell_type": "code",
   "execution_count": 1,
   "id": "00cec2c3-a7ab-4ba7-9484-014c412b428a",
   "metadata": {},
   "outputs": [],
   "source": [
    "from ipywidgets import interact\n",
    "from fastai.basics import *"
   ]
  },
  {
   "cell_type": "code",
   "execution_count": 2,
   "id": "a93e814b-0237-4e27-ba81-79b47b3dbd79",
   "metadata": {},
   "outputs": [],
   "source": [
    "plt.rc('figure', dpi=90)\n",
    "\n",
    "def plot_function(f, title=None, min=-2.1, max=2.1, color='r', ylim=None):\n",
    "    x = torch.linspace(min,max, 100)[:,None]\n",
    "    if ylim: \n",
    "        plt.ylim(ylim)\n",
    "    plt.plot(x, f(x), color)\n",
    "    if title is not None: \n",
    "        plt.title(title)"
   ]
  },
  {
   "cell_type": "markdown",
   "id": "e3b73fe5-4299-4984-acb6-cedd5fb7495f",
   "metadata": {},
   "source": [
    "## Mathematical Function we want to approximate, usually is unknown"
   ]
  },
  {
   "cell_type": "code",
   "execution_count": 3,
   "id": "1ef6e1c5-6170-44bf-9f00-b32767f6e5a0",
   "metadata": {},
   "outputs": [
    {
     "data": {
      "image/png": "[encoded data removed]",
      "text/plain": [
       "<Figure size 432x288 with 1 Axes>"
      ]
     },
     "metadata": {
      "needs_background": "light"
     },
     "output_type": "display_data"
    }
   ],
   "source": [
    "def f(x): \n",
    "    return 3*x**2 + 2*x + 1\n",
    "\n",
    "plot_function(f, \"$3x^2 + 2x + 1$\")"
   ]
  },
  {
   "cell_type": "code",
   "execution_count": 4,
   "id": "09dd617d-792d-42dc-b1a8-c987e87041f6",
   "metadata": {},
   "outputs": [],
   "source": [
    "def quad(a, b, c, x): \n",
    "    return a*x**2 + b*x + c"
   ]
  },
  {
   "cell_type": "code",
   "execution_count": 5,
   "id": "40eba43a-a6f9-4d3e-be1a-c1e40c5a8463",
   "metadata": {},
   "outputs": [],
   "source": [
    "def mk_quad(a, b, c):\n",
    "    return partial(quad, a, b, c)"
   ]
  },
  {
   "cell_type": "code",
   "execution_count": 6,
   "id": "2717f643-30a4-4833-90de-b1697b64af30",
   "metadata": {},
   "outputs": [
    {
     "data": {
      "image/png": "[encoded data removed]",
      "text/plain": [
       "<Figure size 432x288 with 1 Axes>"
      ]
     },
     "metadata": {
      "needs_background": "light"
     },
     "output_type": "display_data"
    }
   ],
   "source": [
    "f2 = mk_quad(3, 2, 1)\n",
    "plot_function(f2, \"$3x^2 + 2x + 1$\")"
   ]
  },
  {
   "cell_type": "code",
   "execution_count": 7,
   "id": "01ab7192-8403-46f1-8cea-48610489c440",
   "metadata": {},
   "outputs": [],
   "source": [
    "def noise(x, scale): return np.random.normal(scale=scale, size=x.shape)\n",
    "def add_noise(x, mult, add): return x * (1+noise(x,mult)) + noise(x,add)"
   ]
  },
  {
   "cell_type": "code",
   "execution_count": 8,
   "id": "a152021f-96b4-40d4-969c-203e27438171",
   "metadata": {},
   "outputs": [],
   "source": [
    "np.random.seed(42)\n",
    "\n",
    "x = torch.linspace(-2, 2, steps=20)[:,None]\n",
    "y = add_noise(f(x), 0.15, 1.5)"
   ]
  },
  {
   "cell_type": "code",
   "execution_count": 9,
   "id": "867b191a-485f-418d-b331-f548a6f01180",
   "metadata": {},
   "outputs": [
    {
     "data": {
      "image/png": "[encoded data removed]",
      "text/plain": [
       "<Figure size 432x288 with 1 Axes>"
      ]
     },
     "metadata": {
      "needs_background": "light"
     },
     "output_type": "display_data"
    }
   ],
   "source": [
    "plt.scatter(x,y);"
   ]
  },
  {
   "cell_type": "code",
   "execution_count": 10,
   "id": "ae331e83-7e4f-4837-994e-f907bc7450b9",
   "metadata": {},
   "outputs": [
    {
     "data": {
      "application/vnd.jupyter.widget-view+json": {
       "model_id": "5acf8196ec6c47708c99c2c82db96bf6",
       "version_major": 2,
       "version_minor": 0
      },
      "text/plain": [
       "interactive(children=(FloatSlider(value=1.1, description='a', max=3.3000000000000003, min=-1.1), FloatSlider(v…"
      ]
     },
     "metadata": {},
     "output_type": "display_data"
    }
   ],
   "source": [
    "@interact(a=1.1, b=1.1, c=1.1)\n",
    "def plot_quad(a, b, c):\n",
    "    plt.scatter(x,y)\n",
    "    plot_function(mk_quad(a,b,c), ylim=(-3,13))"
   ]
  },
  {
   "cell_type": "markdown",
   "id": "c9617f8e-3a65-433d-a2b1-c0d6d47e00e5",
   "metadata": {},
   "source": [
    "## Loss Function to minimize"
   ]
  },
  {
   "cell_type": "code",
   "execution_count": 11,
   "id": "9a55beb2-788c-4d0f-9654-7e286095e0c1",
   "metadata": {},
   "outputs": [],
   "source": [
    "def mae(y_true, y_pred):\n",
    "    return torch.abs(y_true - y_pred).mean()"
   ]
  },
  {
   "cell_type": "code",
   "execution_count": 12,
   "id": "c1e9c70c-9b21-4a19-8d4e-b2269fc588bb",
   "metadata": {},
   "outputs": [
    {
     "data": {
      "application/vnd.jupyter.widget-view+json": {
       "model_id": "a52b780022cb42399e56595a00d6053e",
       "version_major": 2,
       "version_minor": 0
      },
      "text/plain": [
       "interactive(children=(FloatSlider(value=1.1, description='a', max=3.3000000000000003, min=-1.1), FloatSlider(v…"
      ]
     },
     "metadata": {},
     "output_type": "display_data"
    }
   ],
   "source": [
    "@interact(a=1.1, b=1.1, c=1.1)\n",
    "def plot_quad(a, b, c):\n",
    "    f = mk_quad(a,b,c)\n",
    "    plt.scatter(x,y)\n",
    "    loss = mae(f(x), y)\n",
    "    plot_function(f, ylim=(-3,12), title=f\"MAE: {loss:.2f}\")"
   ]
  },
  {
   "cell_type": "markdown",
   "id": "fd9acbcf-c200-4b1f-86b4-a3993146b82e",
   "metadata": {},
   "source": [
    "## Stochastic Gradient Descent"
   ]
  },
  {
   "cell_type": "code",
   "execution_count": 13,
   "id": "7200cc32-3611-4bcc-8149-6a792dcbeee7",
   "metadata": {},
   "outputs": [],
   "source": [
    "def quad_mae(abc):\n",
    "    f = mk_quad(*abc)\n",
    "    return mae(f(x), y)"
   ]
  },
  {
   "cell_type": "code",
   "execution_count": 14,
   "id": "02410eab-e51e-4187-afb4-5c6b0f15f50c",
   "metadata": {},
   "outputs": [],
   "source": [
    "abc = torch.tensor([1.1, 1.1, 1.1]).requires_grad_()"
   ]
  },
  {
   "cell_type": "code",
   "execution_count": 15,
   "id": "98779d09-2678-4f71-a891-5e03c075f27f",
   "metadata": {},
   "outputs": [
    {
     "name": "stdout",
     "output_type": "stream",
     "text": [
      "iteration 0: mae 2.4218544652326717\n",
      "iteration 1: mae 2.213718624935926\n",
      "iteration 2: mae 1.8164027770425484\n",
      "iteration 3: mae 1.4034977278380247\n",
      "iteration 4: mae 1.1613496041052298\n",
      "iteration 5: mae 1.5542304890198644\n",
      "iteration 6: mae 1.9741292265566088\n",
      "iteration 7: mae 2.2342570868643024\n",
      "iteration 8: mae 2.1990399864824512\n",
      "iteration 9: mae 1.8684778836878042\n"
     ]
    }
   ],
   "source": [
    "for i in range(10):\n",
    "    loss = quad_mae(abc)\n",
    "    loss.backward()\n",
    "    with torch.no_grad():\n",
    "        abc -= 0.1 * abc.grad\n",
    "        print(f'iteration {i}: mae {loss}')"
   ]
  },
  {
   "cell_type": "markdown",
   "id": "6f5c4a39-c2a3-40ca-81d7-dc81267ac7eb",
   "metadata": {},
   "source": [
    "# Rectified Linear Units"
   ]
  },
  {
   "cell_type": "code",
   "execution_count": 16,
   "id": "0bee4b9d-0a78-48be-a1ee-a9d10fe2f6ad",
   "metadata": {},
   "outputs": [],
   "source": [
    "# RELU\n",
    "def rectified_linear(x, m, b):\n",
    "    y = m*x + b\n",
    "    return torch.clip(y, 0.)"
   ]
  },
  {
   "cell_type": "code",
   "execution_count": 17,
   "id": "102b52f3-04c8-454f-b910-144365c36e5d",
   "metadata": {},
   "outputs": [
    {
     "data": {
      "image/png": "[encoded data removed]",
      "text/plain": [
       "<Figure size 432x288 with 1 Axes>"
      ]
     },
     "metadata": {
      "needs_background": "light"
     },
     "output_type": "display_data"
    }
   ],
   "source": [
    "plot_function(partial(rectified_linear, 1, 1), title=\"RELU\")"
   ]
  },
  {
   "cell_type": "code",
   "execution_count": 18,
   "id": "ea66dccf-2fa7-4135-8720-162e22e9cb01",
   "metadata": {},
   "outputs": [
    {
     "data": {
      "image/png": "[encoded data removed]",
      "text/plain": [
       "<Figure size 432x288 with 1 Axes>"
      ]
     },
     "metadata": {
      "needs_background": "light"
     },
     "output_type": "display_data"
    }
   ],
   "source": [
    "import torch.nn.functional as F\n",
    "def rectified_linear(x, m, b):\n",
    "    return F.relu(m*x + b)\n",
    "\n",
    "plot_function(partial(rectified_linear, 1, 1), title=\"RELU\")"
   ]
  },
  {
   "cell_type": "code",
   "execution_count": 19,
   "id": "9f5f1513-8ea0-48cf-a36b-1308ecf3b87d",
   "metadata": {},
   "outputs": [
    {
     "data": {
      "application/vnd.jupyter.widget-view+json": {
       "model_id": "3b6eeeafc1af4787b288d3670ee40591",
       "version_major": 2,
       "version_minor": 0
      },
      "text/plain": [
       "interactive(children=(FloatSlider(value=1.5, description='m', max=4.5, min=-1.5), FloatSlider(value=1.5, descr…"
      ]
     },
     "metadata": {},
     "output_type": "display_data"
    }
   ],
   "source": [
    "@interact(m=1.5, b=1.5)\n",
    "def plot_relu(m, b):\n",
    "    plot_function(partial(rectified_linear, m,b), ylim=(-1,4))"
   ]
  },
  {
   "cell_type": "code",
   "execution_count": 20,
   "id": "1f06d0e0-8a80-449d-947f-0eec98ffe94b",
   "metadata": {},
   "outputs": [
    {
     "data": {
      "application/vnd.jupyter.widget-view+json": {
       "model_id": "9e166503dada40d69ccee13540c9f583",
       "version_major": 2,
       "version_minor": 0
      },
      "text/plain": [
       "interactive(children=(FloatSlider(value=-1.5, description='m1', max=1.5, min=-4.5), FloatSlider(value=-1.5, de…"
      ]
     },
     "metadata": {},
     "output_type": "display_data"
    }
   ],
   "source": [
    "def triple_relu(m1,b1,m2,b2, m3, b3, x):\n",
    "    return rectified_linear(m1,b1,x) + rectified_linear(m2,b2,x) + rectified_linear(m3,b3,x)\n",
    "\n",
    "@interact(m1=-1.5, b1=-1.5, m2=1.5, b2=1.5, m3=1.5, b3=1.5)\n",
    "def plot_triple_relu(m1, b1, m2, b2, m3, b3):\n",
    "    plot_function(partial(triple_relu, m1,b1,m2,b2,m3,b3), ylim=(-1,6))"
   ]
  },
  {
   "cell_type": "code",
   "execution_count": null,
   "id": "1a80d019-1da1-4b23-82dc-f9fe71f32a8f",
   "metadata": {},
   "outputs": [],
   "source": []
  }
 ],
 "metadata": {
  "kernelspec": {
   "display_name": "Python 3 (ipykernel)",
   "language": "python",
   "name": "python3"
  },
  "language_info": {
   "codemirror_mode": {
    "name": "ipython",
    "version": 3
   },
   "file_extension": ".py",
   "mimetype": "text/x-python",
   "name": "python",
   "nbconvert_exporter": "python",
   "pygments_lexer": "ipython3",
   "version": "3.9.13"
  }
 },
 "nbformat": 4,
 "nbformat_minor": 5
}
